{
 "cells": [
  {
   "cell_type": "markdown",
   "id": "f1a26b7d-e93c-4da9-93f8-ee15b722800a",
   "metadata": {},
   "source": [
    "# 밑바닥부터 시작하는 딥러닝\n",
    "### 4장 신경망 학습"
   ]
  },
  {
   "cell_type": "markdown",
   "id": "a846f739-789b-44d8-be2d-e785fc0b8806",
   "metadata": {},
   "source": [
    "#### 오차제곱합"
   ]
  },
  {
   "cell_type": "code",
   "execution_count": 3,
   "id": "f7642b7a-68c1-423b-b6c4-b223215638e0",
   "metadata": {},
   "outputs": [],
   "source": [
    "y=[0.1, 0.05, 0.6, 0.0, 0.05, 0.1, 0.0, 0.1, 0.0, 0.0]\n",
    "t= [0,0,1,0,0,0,0,0,0,0] #원-핫 인코딩"
   ]
  },
  {
   "cell_type": "markdown",
   "id": "f149a3fa-1935-4385-b158-983404be07ed",
   "metadata": {},
   "source": [
    "오차제곱합은 각 원소의 출력(추정 값)과 정답 레이블(참 값)의 차(yk-tk)를 제곱한 후, 그 총합을 구한 것."
   ]
  },
  {
   "cell_type": "code",
   "execution_count": 4,
   "id": "d0d3987a-0c2c-418e-8182-e2ec48d8e4b9",
   "metadata": {},
   "outputs": [],
   "source": [
    "def sum_squares_error(y, t):\n",
    "    return 0.5*np.sum((y-t)**2)"
   ]
  },
  {
   "cell_type": "code",
   "execution_count": 6,
   "id": "dbf3101c-0a25-44c3-8e55-9fcffff68a19",
   "metadata": {},
   "outputs": [
    {
     "data": {
      "text/plain": [
       "0.09750000000000003"
      ]
     },
     "execution_count": 6,
     "metadata": {},
     "output_type": "execute_result"
    }
   ],
   "source": [
    "import numpy as np\n",
    "sum_squares_error(np.array(y),np.array(t))"
   ]
  },
  {
   "cell_type": "code",
   "execution_count": 7,
   "id": "4e8559f3-2a52-4368-9faa-00e7032050a6",
   "metadata": {},
   "outputs": [
    {
     "data": {
      "text/plain": [
       "0.5975"
      ]
     },
     "execution_count": 7,
     "metadata": {},
     "output_type": "execute_result"
    }
   ],
   "source": [
    "y=[0.1, 0.05, 0.1, 0.0, 0.05, 0.1, 0.0, 0.6, 0.0, 0.0]\n",
    "sum_squares_error(np.array(y),np.array(t))"
   ]
  },
  {
   "cell_type": "markdown",
   "id": "e15901c8-e6a4-4dee-b6d1-d99f17249252",
   "metadata": {},
   "source": [
    "오차가 작은 첫번째 예가 정답에 더 가까운 것으로 판단 가능"
   ]
  },
  {
   "cell_type": "markdown",
   "id": "eed77df8-ae4c-4e9f-9bea-6a2257f57592",
   "metadata": {},
   "source": [
    "#### 교차 엔트로피 오차"
   ]
  },
  {
   "cell_type": "code",
   "execution_count": 9,
   "id": "636061a7-2d6e-412a-b068-764ef211711c",
   "metadata": {},
   "outputs": [],
   "source": [
    "def cross_entropy_error(y, t):\n",
    "    delta = 1e-7\n",
    "    return -np.sum(t*np.log(y+delta))\n",
    "\n",
    "#delta를 더해주는 이유는 log에 0이 들어가면 -무한대가 출력 되는 것을 막기 위한 것"
   ]
  },
  {
   "cell_type": "code",
   "execution_count": 10,
   "id": "54175450-15a5-4250-84de-26caa00e9cc9",
   "metadata": {},
   "outputs": [
    {
     "data": {
      "text/plain": [
       "0.510825457099338"
      ]
     },
     "execution_count": 10,
     "metadata": {},
     "output_type": "execute_result"
    }
   ],
   "source": [
    "y=[0.1, 0.05, 0.6, 0.0, 0.05, 0.1, 0.0, 0.1, 0.0, 0.0]\n",
    "t= [0,0,1,0,0,0,0,0,0,0]\n",
    "cross_entropy_error(np.array(y), np.array(t))"
   ]
  },
  {
   "cell_type": "code",
   "execution_count": 11,
   "id": "59ef3155-132e-46cf-aa4c-9118454b53f4",
   "metadata": {},
   "outputs": [
    {
     "data": {
      "text/plain": [
       "2.302584092994546"
      ]
     },
     "execution_count": 11,
     "metadata": {},
     "output_type": "execute_result"
    }
   ],
   "source": [
    "y=[0.1, 0.05, 0.1, 0.0, 0.05, 0.1, 0.0, 0.6, 0.0, 0.0]\n",
    "cross_entropy_error(np.array(y), np.array(t))\n"
   ]
  },
  {
   "cell_type": "markdown",
   "id": "f187b9c3-3627-42cc-81f8-a0f2bb73eb57",
   "metadata": {},
   "source": [
    "#### 미니배치 학습: 많은 데이터 중 일부를 무작위로 추려서 그 근사치로 이용할 수 있다. 여기서 무작위로 추려진 데이터를 미니배치라고 함."
   ]
  },
  {
   "cell_type": "code",
   "execution_count": 16,
   "id": "aa88b1b8-3ba4-44fb-9b08-ca762a80c4f4",
   "metadata": {},
   "outputs": [
    {
     "name": "stdout",
     "output_type": "stream",
     "text": [
      "(60000, 784)\n",
      "(60000, 10)\n"
     ]
    }
   ],
   "source": [
    "import sys, os\n",
    "sys.path.append(os.pardir)\n",
    "import numpy as np\n",
    "from dataset.mnist import load_mnist\n",
    "\n",
    "(x_train, t_train), (x_test, t_test) = load_mnist(normalize=True, one_hot_label=True) #원-핫\n",
    "\n",
    "print(x_train.shape)\n",
    "print(t_train.shape)"
   ]
  },
  {
   "cell_type": "code",
   "execution_count": 18,
   "id": "3152b261-6941-4a2f-bbf6-bbdfa96fbda0",
   "metadata": {},
   "outputs": [],
   "source": [
    "train_size= x_train.shape[0]\n",
    "batch_size=10\n",
    "batch_mask=np.random.choice(train_size, batch_size)\n",
    "x_batch=x_train[batch_mask]\n",
    "t_batch=t_train[batch_mask]"
   ]
  },
  {
   "cell_type": "code",
   "execution_count": 20,
   "id": "5674506f-e191-4c09-b76b-3ee583f2b0ed",
   "metadata": {},
   "outputs": [
    {
     "data": {
      "text/plain": [
       "array([53038, 14748, 36620, 46217, 36867,  4690, 47158, 24660, 35826,\n",
       "        5420])"
      ]
     },
     "execution_count": 20,
     "metadata": {},
     "output_type": "execute_result"
    }
   ],
   "source": [
    "np.random.choice(60000,10)"
   ]
  },
  {
   "cell_type": "markdown",
   "id": "36b089d1-2cd2-44f5-875d-68954a5eeeaa",
   "metadata": {},
   "source": [
    "(배치용) 교차 엔트로피 오차 구현하기"
   ]
  },
  {
   "cell_type": "code",
   "execution_count": 22,
   "id": "307399f2-1773-4a68-b807-fce035b75d51",
   "metadata": {},
   "outputs": [],
   "source": [
    "def cross_entropy_error(y, t):\n",
    "    if y.dim==1:\n",
    "        t=t.reshape(1,t.size)\n",
    "        y=y.reshape(1,y.size)\n",
    "    batch_size= y.shape[0]\n",
    "    return -np.sum(t*np.log(y+1e-7))/batch_size\n",
    "\n"
   ]
  },
  {
   "cell_type": "code",
   "execution_count": null,
   "id": "0f33f197-77a1-49b9-a8b9-9b60c6ac8385",
   "metadata": {},
   "outputs": [],
   "source": [
    "#원-핫 인코딩이 아닌 경우\n",
    "'''\n",
    "def cross_entropy_error(y, t):\n",
    "    if y.ndim ==1:\n",
    "        t=t.reshape(1, t.size)\n",
    "        y=y.reshape(1,y.size)\n",
    "    batch_size=y.shape[0]\n",
    "    return -np.sum(np.log(y[np.arange(batch_size), t] + 1e-7)) / batch_size\n",
    "'''"
   ]
  },
  {
   "cell_type": "markdown",
   "id": "9871c334-6131-4525-b921-3efab9d00d9e",
   "metadata": {},
   "source": [
    "손실 함수를 설정하는 이유: 신경망을 학습할 때 정확도를 지표로 삼게 되면 우리가 찾으려는 매개변수의 미분이 대부분의 장소에서 0이 되기 때문에 손실 함수를 설정한다."
   ]
  },
  {
   "cell_type": "markdown",
   "id": "cdc4e7b4-5a90-40dc-b1d1-cd03bdcd6276",
   "metadata": {},
   "source": [
    "#### 수치 미분"
   ]
  },
  {
   "cell_type": "code",
   "execution_count": 25,
   "id": "0fee99bb-76a9-4747-8492-85bc5a7dcbef",
   "metadata": {},
   "outputs": [],
   "source": [
    "def numerical_diff(f, x):\n",
    "    h = 1e-4\n",
    "    return (f(x+h)-f(x-h))/(2*h)"
   ]
  },
  {
   "cell_type": "code",
   "execution_count": 28,
   "id": "854cb86c-beb9-4e56-a6d8-77117d1a2fea",
   "metadata": {},
   "outputs": [],
   "source": [
    "def function_1(x):\n",
    "    return 0.01*x**2 + 0.1*x"
   ]
  },
  {
   "cell_type": "code",
   "execution_count": 29,
   "id": "dad65066-709e-4390-8398-9fa8603a1e70",
   "metadata": {},
   "outputs": [
    {
     "data": {
      "image/png": "[encoded data removed]",
      "text/plain": [
       "<Figure size 432x288 with 1 Axes>"
      ]
     },
     "metadata": {
      "needs_background": "light"
     },
     "output_type": "display_data"
    }
   ],
   "source": [
    "import matplotlib.pylab as plt\n",
    "\n",
    "x=np.arange(0.0,20.0, 0.1)\n",
    "y = function_1(x)\n",
    "plt.xlabel(\"x\")\n",
    "plt.ylabel(\"f(x)\")\n",
    "plt.plot(x,y)\n",
    "plt.show()"
   ]
  },
  {
   "cell_type": "code",
   "execution_count": 30,
   "id": "9510dd1e-62d9-4419-80f8-06b827f10c58",
   "metadata": {},
   "outputs": [
    {
     "data": {
      "text/plain": [
       "0.1999999999990898"
      ]
     },
     "execution_count": 30,
     "metadata": {},
     "output_type": "execute_result"
    }
   ],
   "source": [
    "numerical_diff(function_1,5)"
   ]
  },
  {
   "cell_type": "code",
   "execution_count": 31,
   "id": "beac232c-ae2b-45e4-b772-fc9d57bad4d0",
   "metadata": {},
   "outputs": [
    {
     "data": {
      "text/plain": [
       "0.2999999999986347"
      ]
     },
     "execution_count": 31,
     "metadata": {},
     "output_type": "execute_result"
    }
   ],
   "source": [
    "numerical_diff(function_1, 10)"
   ]
  },
  {
   "cell_type": "markdown",
   "id": "15b5fc21-7bb2-4910-8299-f7a4313d42fd",
   "metadata": {},
   "source": [
    "##### 편미분"
   ]
  },
  {
   "cell_type": "code",
   "execution_count": 33,
   "id": "49714d7d-395a-4c71-bd16-29d03caa2717",
   "metadata": {},
   "outputs": [],
   "source": [
    "def function_2(x):\n",
    "    return x[0]**2 + x[1]**2"
   ]
  },
  {
   "cell_type": "code",
   "execution_count": 34,
   "id": "ced3af2d-f182-4d19-9356-6bafaf1f1c3c",
   "metadata": {},
   "outputs": [],
   "source": [
    "def function_tmp1(x0):\n",
    "    return x0*x0 + 4.0**2.0"
   ]
  },
  {
   "cell_type": "code",
   "execution_count": 35,
   "id": "e59e90e6-37ee-49ec-a81d-7e97795b6176",
   "metadata": {},
   "outputs": [
    {
     "data": {
      "text/plain": [
       "6.00000000000378"
      ]
     },
     "execution_count": 35,
     "metadata": {},
     "output_type": "execute_result"
    }
   ],
   "source": [
    "numerical_diff(function_tmp1,3.0)"
   ]
  },
  {
   "cell_type": "code",
   "execution_count": 38,
   "id": "d39c1c48-e1aa-442b-8ba2-0200336eaf2e",
   "metadata": {},
   "outputs": [],
   "source": [
    "def function_tmp2(x1):\n",
    "    return 3.0**2.0+x1*x1"
   ]
  },
  {
   "cell_type": "code",
   "execution_count": 39,
   "id": "a0714a99-76f5-4d99-b695-4fad96381ab1",
   "metadata": {},
   "outputs": [
    {
     "data": {
      "text/plain": [
       "7.999999999999119"
      ]
     },
     "execution_count": 39,
     "metadata": {},
     "output_type": "execute_result"
    }
   ],
   "source": [
    "numerical_diff(function_tmp2, 4.0)"
   ]
  },
  {
   "cell_type": "markdown",
   "id": "e7bf5862-9845-48ca-9e84-b966e8e4df50",
   "metadata": {},
   "source": [
    "나머지 변수는 고정하고 해당순서의 변수로만 미분하는 것. ---- 다음시간에 기울기 + 경사하강법 할듯"
   ]
  }
 ],
 "metadata": {
  "kernelspec": {
   "display_name": "Python 3 (ipykernel)",
   "language": "python",
   "name": "python3"
  },
  "language_info": {
   "codemirror_mode": {
    "name": "ipython",
    "version": 3
   },
   "file_extension": ".py",
   "mimetype": "text/x-python",
   "name": "python",
   "nbconvert_exporter": "python",
   "pygments_lexer": "ipython3",
   "version": "3.9.12"
  }
 },
 "nbformat": 4,
 "nbformat_minor": 5
}
