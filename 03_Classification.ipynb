{
  "nbformat": 4,
  "nbformat_minor": 0,
  "metadata": {
    "colab": {
      "provenance": [],
      "collapsed_sections": [
        "HT1p4-0R-eg9",
        "dfm9LjSAErsl",
        "9k19nEcwHywh"
      ]
    },
    "kernelspec": {
      "name": "python3",
      "display_name": "Python 3"
    },
    "language_info": {
      "name": "python"
    },
    "gpuClass": "standard"
  },
  "cells": [
    {
      "cell_type": "markdown",
      "source": [
        "## 오늘 해볼 것은 MNIST "
      ],
      "metadata": {
        "id": "HT1p4-0R-eg9"
      }
    },
    {
      "cell_type": "markdown",
      "source": [
        "하나의 숫자 이미지는 28x28  \n",
        "이것을 1차원으로 주욱 펴서 784짜리 1차원 벡터로 즉, 784개의 특성을 가진 것으로 만들어  \n"
      ],
      "metadata": {
        "id": "EqtNsnFQ-pUO"
      }
    },
    {
      "cell_type": "markdown",
      "source": [],
      "metadata": {
        "id": "9ZC5lxEm-pQq"
      }
    },
    {
      "cell_type": "code",
      "execution_count": null,
      "metadata": {
        "id": "D1N0gLe67Mxw"
      },
      "outputs": [],
      "source": [
        "from sklearn.datasets import fetch_openml\n",
        "\n",
        "mnist = fetch_openml('mnist_784', version=1, as_frame=False)\n",
        "mnist.keys()"
      ]
    },
    {
      "cell_type": "code",
      "source": [
        "X, y  = mnist[\"data\"], mnist[\"target\"]\n",
        "print(X.shape, y.shape)"
      ],
      "metadata": {
        "id": "8f6j5RYN_Jay"
      },
      "execution_count": null,
      "outputs": []
    },
    {
      "cell_type": "code",
      "source": [
        "type(X)"
      ],
      "metadata": {
        "id": "81EcX8Oj_1j6"
      },
      "execution_count": null,
      "outputs": []
    },
    {
      "cell_type": "code",
      "source": [
        "import matplotlib.pyplot as plt\n",
        "some_digit = X[0]\n",
        "some_digit_image = some_digit.reshape(28, 28)\n",
        "\n",
        "plt.imshow(some_digit_image, cmap=\"binary\")\n",
        "plt.axis(\"off\")\n",
        "plt.show()"
      ],
      "metadata": {
        "id": "VxtlQjfeAYDe"
      },
      "execution_count": null,
      "outputs": []
    },
    {
      "cell_type": "markdown",
      "source": [
        "binary를 써주면 0에 가까울수록 하얀색 255에 가까울수록 검정색"
      ],
      "metadata": {
        "id": "7_Y1IAfBB11w"
      }
    },
    {
      "cell_type": "code",
      "source": [
        "plt.imshow(some_digit_image, cmap='gray')\n",
        "plt.axis(\"off\")\n",
        "plt.show()"
      ],
      "metadata": {
        "id": "wqa_CdPCBt0l"
      },
      "execution_count": null,
      "outputs": []
    },
    {
      "cell_type": "code",
      "source": [
        "y[0]"
      ],
      "metadata": {
        "id": "Y23myeTECArd"
      },
      "execution_count": null,
      "outputs": []
    },
    {
      "cell_type": "code",
      "source": [
        "import numpy as np\n",
        "y = y.astype(np.uint8) #부호를 빼주면 0~255가 되기 때문에 딱 좋음"
      ],
      "metadata": {
        "id": "waHyI4fzCKGr"
      },
      "execution_count": null,
      "outputs": []
    },
    {
      "cell_type": "code",
      "source": [
        "X_train, X_test, y_train, y_test = X[:60000], X[60000:], y[:60000], y[60000:]"
      ],
      "metadata": {
        "id": "MwyW5X2tCQ7E"
      },
      "execution_count": null,
      "outputs": []
    },
    {
      "cell_type": "markdown",
      "source": [
        "이진 분류기   \n",
        "5냐 아니냐로"
      ],
      "metadata": {
        "id": "no-NpPxxCpqO"
      }
    },
    {
      "cell_type": "code",
      "source": [
        "y_train_5 = (y_train==5)\n",
        "y_test_5 = (y_test==5)"
      ],
      "metadata": {
        "id": "7O-H6eWZCln5"
      },
      "execution_count": null,
      "outputs": []
    },
    {
      "cell_type": "code",
      "source": [
        "from sklearn.linear_model import SGDClassifier\n",
        "\n",
        "sgd_clf = SGDClassifier(random_state = 42)\n",
        "sgd_clf.fit(X_train, y_train_5)"
      ],
      "metadata": {
        "id": "OoMDHBy3BP6e"
      },
      "execution_count": null,
      "outputs": []
    },
    {
      "cell_type": "code",
      "source": [
        "sgd_clf.predict([some_digit])"
      ],
      "metadata": {
        "id": "IupvDNsYDh4d"
      },
      "execution_count": null,
      "outputs": []
    },
    {
      "cell_type": "code",
      "source": [
        "sgd_clf.score(X_train, y_train_5)\n",
        "sgd_clf.score(X_test, y_test_5)"
      ],
      "metadata": {
        "id": "-nesoRqaENyf"
      },
      "execution_count": null,
      "outputs": []
    },
    {
      "cell_type": "markdown",
      "source": [
        "### 성능 측정"
      ],
      "metadata": {
        "id": "dfm9LjSAErsl"
      }
    },
    {
      "cell_type": "markdown",
      "source": [
        "k-겹 교차 검증  \n",
        "테스트 세트를 k개로 쪼개서 k개 중 하나는 검증세트로 둠"
      ],
      "metadata": {
        "id": "tPskkZPBFOAp"
      }
    },
    {
      "cell_type": "code",
      "source": [
        "from sklearn.model_selection import cross_val_score\n",
        "cross_val_score(sgd_clf, X_train, y_train_5, cv=3, scoring=\"accuracy\")"
      ],
      "metadata": {
        "id": "CdilvYHOEXNo"
      },
      "execution_count": null,
      "outputs": []
    },
    {
      "cell_type": "markdown",
      "source": [
        "결과는 위의 점수들을 평균낸 것"
      ],
      "metadata": {
        "id": "zze1GhqxFzSB"
      }
    },
    {
      "cell_type": "code",
      "source": [
        "from sklearn.base import BaseEstimator\n",
        "class Never5Classifier(BaseEstimator):\n",
        "  def fit(self, X, y=None):\n",
        "    pass\n",
        "  def predict(self, X):\n",
        "    return np.zeros((len(X),1),dtype=bool)"
      ],
      "metadata": {
        "id": "vi82jOBEEQnx"
      },
      "execution_count": null,
      "outputs": []
    },
    {
      "cell_type": "code",
      "source": [
        "never_5_clf = Never5Classifier()\n",
        "cross_val_score(never_5_clf, X_train, y_train_5, cv=3, scoring=\"accuracy\")"
      ],
      "metadata": {
        "id": "UgIrnjNzGQcL"
      },
      "execution_count": null,
      "outputs": []
    },
    {
      "cell_type": "markdown",
      "source": [],
      "metadata": {
        "id": "B1GSuWtJHHlK"
      }
    },
    {
      "cell_type": "markdown",
      "source": [
        "# 오차 행렬  \n",
        "오늘 가장 중요한 분류기 성능 판별"
      ],
      "metadata": {
        "id": "9k19nEcwHywh"
      }
    },
    {
      "cell_type": "code",
      "source": [
        "from sklearn.metrics import confusion_matrix\n",
        "confusion_matrix(y_train_5, y_train_pred)"
      ],
      "metadata": {
        "colab": {
          "base_uri": "https://localhost:8080/",
          "height": 189
        },
        "id": "4YO_CyS5H50J",
        "outputId": "65e9ffe4-0d06-4edd-a609-41fcabd73d4d"
      },
      "execution_count": null,
      "outputs": [
        {
          "output_type": "error",
          "ename": "NameError",
          "evalue": "ignored",
          "traceback": [
            "\u001b[0;31m---------------------------------------------------------------------------\u001b[0m",
            "\u001b[0;31mNameError\u001b[0m                                 Traceback (most recent call last)",
            "\u001b[0;32m<ipython-input-19-1b5e1c2d8aa3>\u001b[0m in \u001b[0;36m<cell line: 2>\u001b[0;34m()\u001b[0m\n\u001b[1;32m      1\u001b[0m \u001b[0;32mfrom\u001b[0m \u001b[0msklearn\u001b[0m\u001b[0;34m.\u001b[0m\u001b[0mmetrics\u001b[0m \u001b[0;32mimport\u001b[0m \u001b[0mconfusion_matrix\u001b[0m\u001b[0;34m\u001b[0m\u001b[0;34m\u001b[0m\u001b[0m\n\u001b[0;32m----> 2\u001b[0;31m \u001b[0mconfusion_matrix\u001b[0m\u001b[0;34m(\u001b[0m\u001b[0my_train_5\u001b[0m\u001b[0;34m,\u001b[0m \u001b[0my_train_pred\u001b[0m\u001b[0;34m)\u001b[0m\u001b[0;34m\u001b[0m\u001b[0;34m\u001b[0m\u001b[0m\n\u001b[0m",
            "\u001b[0;31mNameError\u001b[0m: name 'y_train_pred' is not defined"
          ]
        }
      ]
    },
    {
      "cell_type": "markdown",
      "source": [
        "accuracy = 53892+3530/60000"
      ],
      "metadata": {
        "id": "uS7LP4i_JP8S"
      }
    },
    {
      "cell_type": "markdown",
      "source": [
        "y=train_perfect_predict = y_train_5\n",
        "confusion_matrix(y_train_5, y_train_5, "
      ],
      "metadata": {
        "id": "arV8xDbUKaXn"
      }
    },
    {
      "cell_type": "code",
      "source": [],
      "metadata": {
        "id": "vwORiB8VKm1P"
      },
      "execution_count": null,
      "outputs": []
    },
    {
      "cell_type": "markdown",
      "source": [
        "또다른 평가지표 정밀도 precision  \n",
        "양성 예측의 정확도  \n",
        "precision = TP/TP+FP"
      ],
      "metadata": {
        "id": "3QPf_lW1J9f0"
      }
    },
    {
      "cell_type": "code",
      "source": [],
      "metadata": {
        "id": "sNccDvo0PLJz"
      },
      "execution_count": null,
      "outputs": []
    },
    {
      "cell_type": "markdown",
      "source": [
        "재현율 recall  \n",
        "recall = TP/TP+FN"
      ],
      "metadata": {
        "id": "SlHveUXYPbGW"
      }
    },
    {
      "cell_type": "markdown",
      "source": [
        "# F1 점수  \n",
        "정밀도와 재현률의 조화 평균  \n",
        "산술평균 = a+b/2  \n",
        "조화평균 = 2ab/a+b  \n",
        "기하평균 = sqrt(a^2+b^2)"
      ],
      "metadata": {
        "id": "79WL8r6LPwBN"
      }
    },
    {
      "cell_type": "code",
      "source": [
        "from sklearn.metrics import precision_score, recall_score\n",
        "precision_score(y_train_5, y_train_pred)"
      ],
      "metadata": {
        "id": "pdOaEYlyQLTI"
      },
      "execution_count": null,
      "outputs": []
    },
    {
      "cell_type": "markdown",
      "source": [
        "정밀도와 재현율 사이에는 트레이드 오프가 일어남  \n",
        "z=f(x), y = 1/1+e^-z  \n",
        "일반적으로 분류기는 결정 함수를 사용하여 각 샘플의 점수를 계산하고,  이 점수가 임곗값보다 크면 샘플을 양성 클래스로 예측하고 그렇지 않으면 음성 클래스로 예측함"
      ],
      "metadata": {
        "id": "gZlTOf_UQeyw"
      }
    },
    {
      "cell_type": "markdown",
      "source": [
        "재현율: 양성중에 진짜 양성  \n",
        "정밀도: 양성이라 예측한 것 중에 진짜 양성인 것들"
      ],
      "metadata": {
        "id": "Hac0cIfLSiEM"
      }
    },
    {
      "cell_type": "markdown",
      "source": [
        "ROC curve  \n",
        "TPR 민감도(재현율) \n",
        "TNR 특이도   \n",
        "거짓 양성 비율FPR = 1-TNR  "
      ],
      "metadata": {
        "id": "KvS4A64FTJ01"
      }
    },
    {
      "cell_type": "markdown",
      "source": [
        "ROC는 1-특이도에 대한 민감도 곡선"
      ],
      "metadata": {
        "id": "_pjo-eKrZUpX"
      }
    },
    {
      "cell_type": "code",
      "source": [
        "from sklearn.metrics import roc_curve\n"
      ],
      "metadata": {
        "id": "qlmvJV-UTJFC"
      },
      "execution_count": null,
      "outputs": []
    },
    {
      "cell_type": "markdown",
      "source": [
        "곡선 아래(auc)의 면적이 1에 가까울 수록 좋은 분류기다!"
      ],
      "metadata": {
        "id": "mUnuRLpLaJoi"
      }
    },
    {
      "cell_type": "markdown",
      "source": [
        "## 이진 분류기를 이용한 다중 클래스 분류 "
      ],
      "metadata": {
        "id": "hQjZpuf8aNR6"
      }
    },
    {
      "cell_type": "markdown",
      "source": [
        "전략1. OvR one versus rest 전략  \n",
        "\n",
        "전략2. OvO one versus one 전략  \n",
        "\n",
        "이것도 Trade-off 고려해서 결정 SVM은 OvO"
      ],
      "metadata": {
        "id": "Yc3RxLrzb3Ln"
      }
    },
    {
      "cell_type": "markdown",
      "source": [
        "SVC의 기본값은 OVR"
      ],
      "metadata": {
        "id": "qaHRlUH0djsw"
      }
    }
  ]
}