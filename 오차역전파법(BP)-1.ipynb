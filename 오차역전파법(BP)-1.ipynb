{
 "cells": [
  {
   "cell_type": "markdown",
   "id": "f7c83a92-ea32-4cc9-b4ac-c21f58c7772e",
   "metadata": {},
   "source": [
    "# 오차역전파법  \n",
    "CS231 들을 때 왜 forwardpass를 하고 또 bp(backwardpass or packpropagation)을 해서 가중치들을 왜 굳이 구할까?   \n",
    "생각했었는데 앞에서 배웠던 수치 미분으로 가중치의 기울기를 구하게 되면 '너무 느려서'였다..  \n",
    "별거 아니지만 나에게는 엄청난 지식을 습득한 기분!\n",
    "ㄱㅂㅈㄱㅂㅈ"
   ]
  },
  {
   "cell_type": "markdown",
   "id": "5a94c218-1990-4a5a-b42f-c99846694e89",
   "metadata": {},
   "source": [
    "오차역전파법 방법에는 수식, 계산 그래프 이렇게 두 개가 있다."
   ]
  },
  {
   "cell_type": "markdown",
   "id": "910ba120-1c6c-43e5-8de9-dd119db22e0e",
   "metadata": {},
   "source": [
    "## 여기선 계산 그래프를 중점으로  \n",
    "이유: 중간 계산 결과를 보관할 수 있고, 역전파 시에 미분을 효율적으로 계산할 수 있기 때문"
   ]
  },
  {
   "cell_type": "markdown",
   "id": "63ae55b4-50e3-4e99-a058-813f05fa06e9",
   "metadata": {},
   "source": [
    "국소적 계산: 전체에서 어떤 일이 벌어지든 상관없이 자신과 관계된 정보만으로 결과를 출력할 수 있음"
   ]
  },
  {
   "cell_type": "markdown",
   "id": "40db2aac-5c11-41f6-90e4-61ae61a01e26",
   "metadata": {},
   "source": [
    "읽다보면서 든 생각이 BP하는 이유가 해당 입력이 얼마나, 어떤 영향을 미치는지 보려는거 같음"
   ]
  },
  {
   "cell_type": "markdown",
   "id": "221da851-8f65-4cf4-9995-4e89de405d9e",
   "metadata": {},
   "source": [
    "### 연쇄법칙 chain rule"
   ]
  },
  {
   "cell_type": "markdown",
   "id": "68f93080-1891-4ad1-ac1f-64710dcdd08e",
   "metadata": {},
   "source": [
    "역전파 계선 자철: 노드로 들어온 입력 신호에 그 노드의 국소적 미분(편미분)을 곱한 후 다음 노드로 전달"
   ]
  },
  {
   "cell_type": "markdown",
   "id": "bb457abb-4083-4759-99a9-8e6dfcdc106e",
   "metadata": {},
   "source": [
    "### 역전파"
   ]
  },
  {
   "cell_type": "markdown",
   "id": "ce154722-e87a-434a-8fd7-52bfdc173421",
   "metadata": {},
   "source": [
    "덧셈 노드의 역전파는 전달만  \n",
    "곱셈 노드의 역전파는 순방향 입력 신호의 값이 필요해서 순전판의 입력 신호를 변수에 저장해둠"
   ]
  },
  {
   "cell_type": "markdown",
   "id": "e869edca-3c27-408e-aaca-d9e1bf9d7f18",
   "metadata": {},
   "source": [
    "## 단순한 계층 구현하기"
   ]
  },
  {
   "cell_type": "code",
   "execution_count": 5,
   "id": "09597d4d-dbab-40cd-82ea-ed77de3fa32f",
   "metadata": {},
   "outputs": [],
   "source": [
    "class MulLayer:\n",
    "    def __init__(self):#인스턴스 변수 x, y를 순전파 시의 입력 값을 유지하기 위해 초기화\n",
    "        self.x = None\n",
    "        self.y = None\n",
    "    \n",
    "    def forward(self, x, y):\n",
    "        self.x = x\n",
    "        self.y = y\n",
    "        out = x*y\n",
    "        return out\n",
    "    \n",
    "    def backward(self, dout):#순전파 값을 뒤바꿔 곱한 후 출력\n",
    "        dx = dout*self.y\n",
    "        dy = dout*self.x\n",
    "        \n",
    "        return dx, dy"
   ]
  },
  {
   "cell_type": "code",
   "execution_count": 6,
   "id": "e99cbedf-809b-4a83-a13a-e48037e17eef",
   "metadata": {},
   "outputs": [
    {
     "name": "stdout",
     "output_type": "stream",
     "text": [
      "220.00000000000003\n"
     ]
    }
   ],
   "source": [
    "apple = 100\n",
    "apple_num = 2\n",
    "tax = 1.1\n",
    "\n",
    "mul_apple_layer = MulLayer()\n",
    "mul_tax_layer = MulLayer()\n",
    "\n",
    "apple_price = mul_apple_layer.forward(apple, apple_num)\n",
    "price = mul_tax_layer.forward(apple_price, tax)\n",
    "\n",
    "print(price)"
   ]
  },
  {
   "cell_type": "code",
   "execution_count": 8,
   "id": "0581152b-0469-4a11-94f2-4e0c7e4452a0",
   "metadata": {},
   "outputs": [
    {
     "name": "stdout",
     "output_type": "stream",
     "text": [
      "2.2 110.00000000000001 200\n"
     ]
    }
   ],
   "source": [
    "#역전파\n",
    "dprice = 1\n",
    "dapple_price, dtax = mul_tax_layer.backward(dprice)\n",
    "dapple, dapple_num = mul_apple_layer.backward(dapple_price)\n",
    "\n",
    "print(dapple, dapple_num, dtax)"
   ]
  },
  {
   "cell_type": "markdown",
   "id": "de1797be-5e4b-4862-8923-f650ed100017",
   "metadata": {},
   "source": [
    "여기서 backward()가 받는 인수는 순전파의 출력에 대한 미분임."
   ]
  },
  {
   "cell_type": "code",
   "execution_count": 9,
   "id": "c845ff67-2a90-42a8-afb1-34363b157f04",
   "metadata": {},
   "outputs": [],
   "source": [
    "class AddLayer:\n",
    "    def __init__(self):\n",
    "        pass\n",
    "    def forward(self, x, y):\n",
    "        out = x+y\n",
    "        return out\n",
    "    def backward(self, dout):\n",
    "        dx = dout*1\n",
    "        dy = dout*1\n",
    "        return dx, dy"
   ]
  },
  {
   "cell_type": "code",
   "execution_count": 10,
   "id": "84c2aaf3-f47a-479d-9acf-963769e70b48",
   "metadata": {},
   "outputs": [
    {
     "name": "stdout",
     "output_type": "stream",
     "text": [
      "price: 715\n",
      "dApple: 2.2\n",
      "dApple_num: 110\n",
      "dOrange: 3.3000000000000003\n",
      "dOrange_num: 165\n",
      "dTax: 650\n"
     ]
    }
   ],
   "source": [
    "apple = 100\n",
    "apple_num = 2\n",
    "orange = 150\n",
    "orange_num = 3\n",
    "tax = 1.1\n",
    "\n",
    "# layer\n",
    "mul_apple_layer = MulLayer()\n",
    "mul_orange_layer = MulLayer()\n",
    "add_apple_orange_layer = AddLayer()\n",
    "mul_tax_layer = MulLayer()\n",
    "\n",
    "# forward\n",
    "apple_price = mul_apple_layer.forward(apple, apple_num)  # (1)\n",
    "orange_price = mul_orange_layer.forward(orange, orange_num)  # (2)\n",
    "all_price = add_apple_orange_layer.forward(apple_price, orange_price)  # (3)\n",
    "price = mul_tax_layer.forward(all_price, tax)  # (4)\n",
    "\n",
    "# backward\n",
    "dprice = 1\n",
    "dall_price, dtax = mul_tax_layer.backward(dprice)  # (4)\n",
    "dapple_price, dorange_price = add_apple_orange_layer.backward(dall_price)  # (3)\n",
    "dorange, dorange_num = mul_orange_layer.backward(dorange_price)  # (2)\n",
    "dapple, dapple_num = mul_apple_layer.backward(dapple_price)  # (1)\n",
    "\n",
    "print(\"price:\", int(price))\n",
    "print(\"dApple:\", dapple)\n",
    "print(\"dApple_num:\", int(dapple_num))\n",
    "print(\"dOrange:\", dorange)\n",
    "print(\"dOrange_num:\", int(dorange_num))\n",
    "print(\"dTax:\", dtax)\n"
   ]
  }
 ],
 "metadata": {
  "kernelspec": {
   "display_name": "Python 3 (ipykernel)",
   "language": "python",
   "name": "python3"
  },
  "language_info": {
   "codemirror_mode": {
    "name": "ipython",
    "version": 3
   },
   "file_extension": ".py",
   "mimetype": "text/x-python",
   "name": "python",
   "nbconvert_exporter": "python",
   "pygments_lexer": "ipython3",
   "version": "3.9.12"
  }
 },
 "nbformat": 4,
 "nbformat_minor": 5
}
