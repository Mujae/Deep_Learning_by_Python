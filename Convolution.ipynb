{
  "nbformat": 4,
  "nbformat_minor": 0,
  "metadata": {
    "colab": {
      "provenance": []
    },
    "kernelspec": {
      "name": "python3",
      "display_name": "Python 3"
    },
    "language_info": {
      "name": "python"
    }
  },
  "cells": [
    {
      "cell_type": "code",
      "execution_count": 4,
      "metadata": {
        "colab": {
          "base_uri": "https://localhost:8080/"
        },
        "id": "Px-9FMwN5PZn",
        "outputId": "6e65849c-0c73-4785-f5e0-60a8b60a6111"
      },
      "outputs": [
        {
          "output_type": "execute_result",
          "data": {
            "text/plain": [
              "array([ 1,  4, 10, 16, 22, 22, 15])"
            ]
          },
          "metadata": {},
          "execution_count": 4
        }
      ],
      "source": [
        "import numpy as np\n",
        "\n",
        "ary1 = np.array([1,2,3,4,5])\n",
        "ary2 = np.array([1,2,3])\n",
        "conv_ary = np.convolve(ary2, ary1, 'full')\n",
        "\n",
        "conv_ary"
      ]
    },
    {
      "cell_type": "code",
      "source": [],
      "metadata": {
        "id": "HRvsH6Ak5Rn9"
      },
      "execution_count": null,
      "outputs": []
    }
  ]
}