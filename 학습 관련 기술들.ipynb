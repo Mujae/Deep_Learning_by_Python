{
 "cells": [
  {
   "cell_type": "markdown",
   "id": "af5ffbd3-1600-41be-8d46-7b03bb8c64ce",
   "metadata": {},
   "source": [
    "# 학습 관련된 기술들"
   ]
  },
  {
   "cell_type": "markdown",
   "id": "de98d282-f08a-4e6d-bec5-e3d9eff21a87",
   "metadata": {},
   "source": [
    "### 다룰 주제: 가중치 매개변수의 최적값을 탐색하는 최적화 방법, 가중치 매개변수 초깃값, 하이퍼파라미터 설정 방법 등 -> 다 중요한 것들"
   ]
  },
  {
   "cell_type": "markdown",
   "id": "199ed0cf-880d-44de-b236-ff08ebb2fd25",
   "metadata": {},
   "source": [
    "### SGD 복습"
   ]
  },
  {
   "cell_type": "markdown",
   "id": "e335f47a-e1fb-495d-a3cc-eb98378c8a79",
   "metadata": {},
   "source": [
    "W <- W - $\\eta{\\operatorname{d}\\!L\\over\\operatorname{d}\\!W}$"
   ]
  },
  {
   "cell_type": "markdown",
   "id": "e1055001-e6fc-440b-bbc0-94ebeffaed45",
   "metadata": {},
   "source": [
    "여기서 $\\eta$(에타)는 학습률로 0.01이나 0.001임"
   ]
  },
  {
   "cell_type": "code",
   "execution_count": 2,
   "id": "a17f2b71-b628-4799-9c49-77c0e19c8d6d",
   "metadata": {},
   "outputs": [],
   "source": [
    "class SGD:\n",
    "    def __init__(self, lr=0.01):\n",
    "        self.lr = lr#learning rate\n",
    "    \n",
    "    def update(self, params, grads):\n",
    "        for key in params.keys():\n",
    "            params[key] -=self.lr*grads[key]"
   ]
  },
  {
   "cell_type": "markdown",
   "id": "0f498ba5-276a-4733-867b-650f48672bb7",
   "metadata": {},
   "source": [
    "### SGD의 단점"
   ]
  },
  {
   "cell_type": "markdown",
   "id": "46ce48bd-e123-4848-b2e0-1648de67e2a4",
   "metadata": {},
   "source": [
    "SGD는 단순하고 구현도 쉽지만, 때에 따라 비효율적일 때가 있음."
   ]
  },
  {
   "cell_type": "markdown",
   "id": "507bce06-2b48-4f07-9cb2-b8f9a783139a",
   "metadata": {},
   "source": [
    "비등방성함수에는 탐색 경로가 지그재그여서 비효율적임."
   ]
  },
  {
   "cell_type": "markdown",
   "id": "731a94ac-f1ac-401a-8742-d1fab6fb4fb5",
   "metadata": {},
   "source": [
    "### 모멘텀"
   ]
  },
  {
   "cell_type": "markdown",
   "id": "ef6a0045-24a7-451f-92a5-d42144f2c267",
   "metadata": {},
   "source": [
    "모멘텀은 '운동량'을 뜻하는 단어로 물리와 관계가 있음."
   ]
  },
  {
   "cell_type": "markdown",
   "id": "e621e708-ff23-491d-8547-3e0f73bf198c",
   "metadata": {},
   "source": [
    "W <- W + v 여기서 v는 velocity"
   ]
  },
  {
   "cell_type": "code",
   "execution_count": 4,
   "id": "9e19c94e-9085-4091-94df-b84d2f180238",
   "metadata": {},
   "outputs": [],
   "source": [
    "class Momentum:\n",
    "    def __init__(self, lr=0.01, momentum=0.9):\n",
    "        self.lr = lr\n",
    "        self.momentum = momentum\n",
    "        self.v = None\n",
    "    def update(self, params, grads):\n",
    "        if self.v is None:\n",
    "            self.v = {}\n",
    "            for key, val in params.items():\n",
    "                self.v[key] = np.zeros_like(val)\n",
    "        for key in params.keys():\n",
    "            self.v[key] = self.momentum*self.v[key] - self.lr*grads[key]\n",
    "            params[key] += self.v[key]"
   ]
  },
  {
   "cell_type": "markdown",
   "id": "ce3949c5-477d-4a0a-a388-109d5ea32936",
   "metadata": {},
   "source": [
    "### Adagrad"
   ]
  },
  {
   "cell_type": "markdown",
   "id": "1ccc118e-e1cf-4373-aeb3-0581ed874bff",
   "metadata": {},
   "source": [
    "신경망에서는 학습률이 중요한데 전체적인 학습률 값을 낮추는 것을 발전시킨 버전이 Adagrad"
   ]
  },
  {
   "cell_type": "code",
   "execution_count": null,
   "id": "23fab4c9-7ec3-4906-9782-d212aa5c19fd",
   "metadata": {},
   "outputs": [],
   "source": []
  }
 ],
 "metadata": {
  "kernelspec": {
   "display_name": "Python 3 (ipykernel)",
   "language": "python",
   "name": "python3"
  },
  "language_info": {
   "codemirror_mode": {
    "name": "ipython",
    "version": 3
   },
   "file_extension": ".py",
   "mimetype": "text/x-python",
   "name": "python",
   "nbconvert_exporter": "python",
   "pygments_lexer": "ipython3",
   "version": "3.9.12"
  }
 },
 "nbformat": 4,
 "nbformat_minor": 5
}
