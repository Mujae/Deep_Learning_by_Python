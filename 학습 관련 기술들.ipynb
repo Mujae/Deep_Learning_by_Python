{
 "cells": [
  {
   "cell_type": "markdown",
   "id": "af5ffbd3-1600-41be-8d46-7b03bb8c64ce",
   "metadata": {},
   "source": [
    "# 학습 관련된 기술들"
   ]
  },
  {
   "cell_type": "markdown",
   "id": "de98d282-f08a-4e6d-bec5-e3d9eff21a87",
   "metadata": {},
   "source": [
    "### 다룰 주제: 가중치 매개변수의 최적값을 탐색하는 최적화 방법, 가중치 매개변수 초깃값, 하이퍼파라미터 설정 방법 등 -> 다 중요한 것들"
   ]
  },
  {
   "cell_type": "markdown",
   "id": "199ed0cf-880d-44de-b236-ff08ebb2fd25",
   "metadata": {},
   "source": [
    "### SGD 복습"
   ]
  },
  {
   "cell_type": "markdown",
   "id": "e335f47a-e1fb-495d-a3cc-eb98378c8a79",
   "metadata": {},
   "source": [
    "W <- W - $\\eta{\\operatorname{d}\\!L\\over\\operatorname{d}\\!W}$"
   ]
  },
  {
   "cell_type": "markdown",
   "id": "e1055001-e6fc-440b-bbc0-94ebeffaed45",
   "metadata": {},
   "source": [
    "여기서 $\\eta$(에타)는 학습률로 0.01이나 0.001임"
   ]
  },
  {
   "cell_type": "code",
   "execution_count": 2,
   "id": "a17f2b71-b628-4799-9c49-77c0e19c8d6d",
   "metadata": {},
   "outputs": [],
   "source": [
    "class SGD:\n",
    "    def __init__(self, lr=0.01):\n",
    "        self.lr = lr#learning rate\n",
    "    \n",
    "    def update(self, params, grads):\n",
    "        for key in params.keys():\n",
    "            params[key] -=self.lr*grads[key]"
   ]
  },
  {
   "cell_type": "markdown",
   "id": "0f498ba5-276a-4733-867b-650f48672bb7",
   "metadata": {},
   "source": [
    "### SGD의 단점"
   ]
  },
  {
   "cell_type": "markdown",
   "id": "46ce48bd-e123-4848-b2e0-1648de67e2a4",
   "metadata": {},
   "source": [
    "SGD는 단순하고 구현도 쉽지만, 때에 따라 비효율적일 때가 있음."
   ]
  },
  {
   "cell_type": "markdown",
   "id": "507bce06-2b48-4f07-9cb2-b8f9a783139a",
   "metadata": {},
   "source": [
    "비등방성함수에는 탐색 경로가 지그재그여서 비효율적임."
   ]
  },
  {
   "cell_type": "markdown",
   "id": "731a94ac-f1ac-401a-8742-d1fab6fb4fb5",
   "metadata": {},
   "source": [
    "### 모멘텀"
   ]
  },
  {
   "cell_type": "markdown",
   "id": "ef6a0045-24a7-451f-92a5-d42144f2c267",
   "metadata": {},
   "source": [
    "모멘텀은 '운동량'을 뜻하는 단어로 물리와 관계가 있음."
   ]
  },
  {
   "cell_type": "markdown",
   "id": "e621e708-ff23-491d-8547-3e0f73bf198c",
   "metadata": {},
   "source": [
    "W <- W + v 여기서 v는 velocity"
   ]
  },
  {
   "cell_type": "code",
   "execution_count": 4,
   "id": "9e19c94e-9085-4091-94df-b84d2f180238",
   "metadata": {},
   "outputs": [],
   "source": [
    "class Momentum:\n",
    "    def __init__(self, lr=0.01, momentum=0.9):\n",
    "        self.lr = lr\n",
    "        self.momentum = momentum\n",
    "        self.v = None\n",
    "    def update(self, params, grads):\n",
    "        if self.v is None:\n",
    "            self.v = {}\n",
    "            for key, val in params.items():\n",
    "                self.v[key] = np.zeros_like(val)\n",
    "        for key in params.keys():\n",
    "            self.v[key] = self.momentum*self.v[key] - self.lr*grads[key]\n",
    "            params[key] += self.v[key]"
   ]
  },
  {
   "cell_type": "markdown",
   "id": "ce3949c5-477d-4a0a-a388-109d5ea32936",
   "metadata": {},
   "source": [
    "### Adagrad"
   ]
  },
  {
   "cell_type": "markdown",
   "id": "1ccc118e-e1cf-4373-aeb3-0581ed874bff",
   "metadata": {},
   "source": [
    "신경망에서는 학습률이 작으면 학습시간이 길어지고 너무 크면 발산하여 학습이 제대로 이뤄지지 않아서  \n",
    "학습률이 중요한데 전체적인 학습률 값을 낮추는 것을 발전시킨 버전이 Adagrad"
   ]
  },
  {
   "cell_type": "markdown",
   "id": "9354b8c0-1003-45ef-a2f2-8a4c5d41d7c4",
   "metadata": {},
   "source": [
    "$ h \\longleftarrow h+{\\partial L\\over\\partial W}\\bigodot{\\partial L \\over\\partial W} $"
   ]
  },
  {
   "cell_type": "markdown",
   "id": "f13a5acf-c40b-4c2f-890c-6b84ade1b8e5",
   "metadata": {},
   "source": [
    "$ W \\longleftarrow W - \\eta{1\\over\\sqrt{h}}{\\partial L\\over \\partial W}$"
   ]
  },
  {
   "cell_type": "markdown",
   "id": "0db95f69-e44c-4485-b126-28af37649625",
   "metadata": {},
   "source": [
    "h는 기존 기울기 값을 제곱하여 계속 더해주고  \n",
    "매개변수 갱신할 때는 1/루트h를 곱해 학습률을 조정함.  \n",
    "매개변수의 원소 중에서 많이 움직인(크게 갱신된) 원소는 학습률이 낮아진다는 뜻 -> 학습률 감소가 매개변수의 원소마다 적용됨을 뜻함"
   ]
  },
  {
   "cell_type": "markdown",
   "id": "03837fa8-f469-493f-b701-3022312479bc",
   "metadata": {},
   "source": [
    "AdaGrad는 과거의 기울기를 제곱하여 계속 더하다보니 진행할수록  \n",
    "갱신강도가 약해져 계속 학습하다보면 어느 순간 갱신량이 0이 됨  \n",
    "이것을 개선한 기법이 RMSProp임.  \n",
    "RMSProp은 과거의 모든 기울기를 균일하게 더하지 않고 먼 과거의 기울기는 서서히 잊고 새로운 기울기 정보를 크게 반영함.  \n",
    "* 이를 지수이동평균(Exponential Moving Average EMA)라 한다."
   ]
  },
  {
   "cell_type": "code",
   "execution_count": 3,
   "id": "1d768c77-3c91-48b0-b4d3-2658d20c549b",
   "metadata": {},
   "outputs": [],
   "source": [
    "class Adagrad:\n",
    "    def __init__(self, lr = 0.01):\n",
    "        self.lr = lr\n",
    "        self.h = None\n",
    "    def update(self, params, grads):\n",
    "        if self.h is None:\n",
    "            self.h = {}\n",
    "            for key, val in params.items():\n",
    "                self.h[key] = np.zeros_like(val)\n",
    "        for key in params.keys():\n",
    "            self.h[key] += grads[key] * grads[key]\n",
    "            params[key] -= self.lr*grads[key]/(np.sqrt(self.h[key])+1e-7)#여기서 1e-7이 0으로 나누는 사태를 막아줌"
   ]
  },
  {
   "cell_type": "markdown",
   "id": "52e12d53-1b2a-4fb4-9304-a5dad5368038",
   "metadata": {},
   "source": [
    "Adagrad는 u축 방향이 기울기가 커서 크게 움직이지만 큰 움직임에  \n",
    "비례하여 갱신 정도도 큰 폭으로 작아지도록 조정됨.  \n",
    "따라서 y축 방향으로 갱신 강도가 빠르게 약해지고 지그재그 움직임이 줄어듬"
   ]
  },
  {
   "cell_type": "markdown",
   "id": "20451ebb-e7cd-462c-b794-b56a7d707900",
   "metadata": {},
   "source": [
    "### Adam"
   ]
  },
  {
   "cell_type": "markdown",
   "id": "413a039a-839a-4cd0-9dab-b8dd484e883c",
   "metadata": {},
   "source": [
    "모멘텀과 Adagrad를 합친 것."
   ]
  },
  {
   "cell_type": "markdown",
   "id": "082743b0-5d41-4ca0-9135-36a02020325c",
   "metadata": {},
   "source": [
    "## 그래서 어느 갱신 방법을 이용할텨?"
   ]
  },
  {
   "cell_type": "markdown",
   "id": "23c92c5f-07ad-4808-aa2c-b9c5fbf458a2",
   "metadata": {},
   "source": [
    "-> 문제마다 다름  \n",
    "내가 배우는 책에서는 SGD와 Adam 주로 사용"
   ]
  },
  {
   "cell_type": "markdown",
   "id": "60982b35-a3d5-4c79-a1e1-23ce27421286",
   "metadata": {},
   "source": [
    "## 가중치의 초깃값"
   ]
  },
  {
   "cell_type": "markdown",
   "id": "8074f716-37e6-49f1-9a72-ce95a364a747",
   "metadata": {},
   "source": [
    "신경망 학습에서 특히 중요한 것이 가중치의 초깃값."
   ]
  },
  {
   "cell_type": "markdown",
   "id": "b515304e-f8ec-4c6e-aee8-e1b37cba4282",
   "metadata": {},
   "source": [
    "### if 초깃값 0"
   ]
  },
  {
   "cell_type": "markdown",
   "id": "530c229a-6d21-4291-8092-7496a5cfdce8",
   "metadata": {},
   "source": [
    "오버피팅을 억제하기 위해 가중치 감소라는 기법을 사용한다.  \n",
    "하지만 가중치의 초깃값을 0으로 설정하면 오차역전파법에서 모든 가중치의 값이 똑같이 갱신되기 때문에 안됨"
   ]
  },
  {
   "cell_type": "markdown",
   "id": "e0a26228-3a55-4f00-b25d-5bada3ce665a",
   "metadata": {},
   "source": [
    "### 은닉층의 활성화값 분포"
   ]
  },
  {
   "cell_type": "markdown",
   "id": "e20736d8-5741-49fe-aedc-cba005724564",
   "metadata": {},
   "source": [
    "은닉층의 활성화값(호라성화 함수의 출력 데이터)의 분포를 관찰하면 좋은 정보를 얻을 수 있음"
   ]
  },
  {
   "cell_type": "markdown",
   "id": "8ee99538-a251-45e8-9110-b9e316a007e5",
   "metadata": {},
   "source": [
    "밑은 CS231n 수업에 나온 내용으로 활서오하 함수로 시그모이드 함수를 사용하는 5층  \n",
    "신경망에 무작위로 생성한 입력 데이터를 흘리며 각 층의 활서오하값 분포를 히스토그램으로 그리는 코드  "
   ]
  },
  {
   "cell_type": "code",
   "execution_count": 4,
   "id": "6bd62985-91d7-4c06-8c5d-ec2e16da561b",
   "metadata": {},
   "outputs": [
    {
     "data": {
      "image/png": "[encoded data removed]",
      "text/plain": [
       "<Figure size 432x288 with 5 Axes>"
      ]
     },
     "metadata": {
      "needs_background": "light"
     },
     "output_type": "display_data"
    }
   ],
   "source": [
    "# coding: utf-8\n",
    "import numpy as np\n",
    "import matplotlib.pyplot as plt\n",
    "\n",
    "\n",
    "def sigmoid(x):\n",
    "    return 1 / (1 + np.exp(-x))\n",
    "\n",
    "\n",
    "def ReLU(x):\n",
    "    return np.maximum(0, x)\n",
    "\n",
    "\n",
    "def tanh(x):\n",
    "    return np.tanh(x)\n",
    "    \n",
    "input_data = np.random.randn(1000, 100)  # 1000개의 데이터\n",
    "node_num = 100  # 각 은닉층의 노드(뉴런) 수\n",
    "hidden_layer_size = 5  # 은닉층이 5개\n",
    "activations = {}  # 이곳에 활성화 결과를 저장\n",
    "\n",
    "x = input_data\n",
    "\n",
    "for i in range(hidden_layer_size):\n",
    "    if i != 0:\n",
    "        x = activations[i-1]\n",
    "\n",
    "    # 초깃값을 다양하게 바꿔가며 실험해보자！\n",
    "    w = np.random.randn(node_num, node_num) * 1\n",
    "    # w = np.random.randn(node_num, node_num) * 0.01\n",
    "    # w = np.random.randn(node_num, node_num) * np.sqrt(1.0 / node_num)\n",
    "    # w = np.random.randn(node_num, node_num) * np.sqrt(2.0 / node_num)\n",
    "\n",
    "\n",
    "    a = np.dot(x, w)\n",
    "\n",
    "\n",
    "    # 활성화 함수도 바꿔가며 실험해보자！\n",
    "    z = sigmoid(a)\n",
    "    # z = ReLU(a)\n",
    "    # z = tanh(a)\n",
    "\n",
    "    activations[i] = z\n",
    "\n",
    "# 히스토그램 그리기\n",
    "for i, a in activations.items():\n",
    "    plt.subplot(1, len(activations), i+1)\n",
    "    plt.title(str(i+1) + \"-layer\")\n",
    "    if i != 0: plt.yticks([], [])\n",
    "    # plt.xlim(0.1, 1)\n",
    "    # plt.ylim(0, 7000)\n",
    "    plt.hist(a.flatten(), 30, range=(0,1))\n",
    "plt.show()"
   ]
  },
  {
   "cell_type": "markdown",
   "id": "1f5007b6-7d25-4da4-ad7f-a0eb69b52f33",
   "metadata": {},
   "source": [
    "0과 1에 분포가 치우쳐 있는 것이 기울기 소실임"
   ]
  },
  {
   "cell_type": "code",
   "execution_count": null,
   "id": "3441d092-93e5-4c8a-afb3-b69c6966531f",
   "metadata": {},
   "outputs": [],
   "source": []
  }
 ],
 "metadata": {
  "kernelspec": {
   "display_name": "Python 3 (ipykernel)",
   "language": "python",
   "name": "python3"
  },
  "language_info": {
   "codemirror_mode": {
    "name": "ipython",
    "version": 3
   },
   "file_extension": ".py",
   "mimetype": "text/x-python",
   "name": "python",
   "nbconvert_exporter": "python",
   "pygments_lexer": "ipython3",
   "version": "3.9.12"
  }
 },
 "nbformat": 4,
 "nbformat_minor": 5
}
