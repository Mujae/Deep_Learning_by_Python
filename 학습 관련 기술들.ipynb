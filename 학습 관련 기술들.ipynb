{
 "cells": [
  {
   "cell_type": "markdown",
   "id": "af5ffbd3-1600-41be-8d46-7b03bb8c64ce",
   "metadata": {},
   "source": [
    "# 학습 관련된 기술들"
   ]
  },
  {
   "cell_type": "markdown",
   "id": "de98d282-f08a-4e6d-bec5-e3d9eff21a87",
   "metadata": {},
   "source": [
    "### 다룰 주제: 가중치 매개변수의 최적값을 탐색하는 최적화 방법, 가중치 매개변수 초깃값, 하이퍼파라미터 설정 방법 등 -> 다 중요한 것들"
   ]
  },
  {
   "cell_type": "markdown",
   "id": "199ed0cf-880d-44de-b236-ff08ebb2fd25",
   "metadata": {},
   "source": [
    "### SGD 복습"
   ]
  },
  {
   "cell_type": "markdown",
   "id": "e335f47a-e1fb-495d-a3cc-eb98378c8a79",
   "metadata": {},
   "source": [
    "W <- W - $\\eta{\\operatorname{d}\\!L\\over\\operatorname{d}\\!W}$"
   ]
  },
  {
   "cell_type": "markdown",
   "id": "e1055001-e6fc-440b-bbc0-94ebeffaed45",
   "metadata": {},
   "source": [
    "여기서 $\\eta$(에타)는 학습률로 0.01이나 0.001임"
   ]
  },
  {
   "cell_type": "code",
   "execution_count": 2,
   "id": "a17f2b71-b628-4799-9c49-77c0e19c8d6d",
   "metadata": {},
   "outputs": [],
   "source": [
    "class SGD:\n",
    "    def __init__(self, lr=0.01):\n",
    "        self.lr = lr#learning rate\n",
    "    \n",
    "    def update(self, params, grads):\n",
    "        for key in params.keys():\n",
    "            params[key] -=self.lr*grads[key]"
   ]
  },
  {
   "cell_type": "markdown",
   "id": "0f498ba5-276a-4733-867b-650f48672bb7",
   "metadata": {},
   "source": [
    "### SGD의 단점"
   ]
  },
  {
   "cell_type": "markdown",
   "id": "46ce48bd-e123-4848-b2e0-1648de67e2a4",
   "metadata": {},
   "source": [
    "SGD는 단순하고 구현도 쉽지만, 때에 따라 비효율적일 때가 있음."
   ]
  },
  {
   "cell_type": "markdown",
   "id": "507bce06-2b48-4f07-9cb2-b8f9a783139a",
   "metadata": {},
   "source": [
    "비등방성함수에는 탐색 경로가 지그재그여서 비효율적임."
   ]
  },
  {
   "cell_type": "markdown",
   "id": "731a94ac-f1ac-401a-8742-d1fab6fb4fb5",
   "metadata": {},
   "source": [
    "### 모멘텀"
   ]
  },
  {
   "cell_type": "markdown",
   "id": "ef6a0045-24a7-451f-92a5-d42144f2c267",
   "metadata": {},
   "source": [
    "모멘텀은 '운동량'을 뜻하는 단어로 물리와 관계가 있음."
   ]
  },
  {
   "cell_type": "markdown",
   "id": "e621e708-ff23-491d-8547-3e0f73bf198c",
   "metadata": {},
   "source": [
    "W <- W + v 여기서 v는 velocity"
   ]
  },
  {
   "cell_type": "code",
   "execution_count": 3,
   "id": "9e19c94e-9085-4091-94df-b84d2f180238",
   "metadata": {},
   "outputs": [],
   "source": [
    "class Momentum:\n",
    "    def __init__(self, lr=0.01, momentum=0.9):\n",
    "        self.lr = lr\n",
    "        self.momentum = momentum\n",
    "        self.v = None\n",
    "    def update(self, params, grads):\n",
    "        if self.v is None:\n",
    "            self.v = {}\n",
    "            for key, val in params.items():\n",
    "                self.v[key] = np.zeros_like(val)\n",
    "        for key in params.keys():\n",
    "            self.v[key] = self.momentum*self.v[key] - self.lr*grads[key]\n",
    "            params[key] += self.v[key]"
   ]
  },
  {
   "cell_type": "markdown",
   "id": "ce3949c5-477d-4a0a-a388-109d5ea32936",
   "metadata": {},
   "source": [
    "### Adagrad"
   ]
  },
  {
   "cell_type": "markdown",
   "id": "1ccc118e-e1cf-4373-aeb3-0581ed874bff",
   "metadata": {},
   "source": [
    "신경망에서는 학습률이 작으면 학습시간이 길어지고 너무 크면 발산하여 학습이 제대로 이뤄지지 않아서  \n",
    "학습률이 중요한데 전체적인 학습률 값을 낮추는 것을 발전시킨 버전이 Adagrad"
   ]
  },
  {
   "cell_type": "markdown",
   "id": "9354b8c0-1003-45ef-a2f2-8a4c5d41d7c4",
   "metadata": {},
   "source": [
    "$ h \\longleftarrow h+{\\partial L\\over\\partial W}\\bigodot{\\partial L \\over\\partial W} $"
   ]
  },
  {
   "cell_type": "markdown",
   "id": "f13a5acf-c40b-4c2f-890c-6b84ade1b8e5",
   "metadata": {},
   "source": [
    "$ W \\longleftarrow W - \\eta{1\\over\\sqrt{h}}{\\partial L\\over \\partial W}$"
   ]
  },
  {
   "cell_type": "markdown",
   "id": "0db95f69-e44c-4485-b126-28af37649625",
   "metadata": {},
   "source": [
    "h는 기존 기울기 값을 제곱하여 계속 더해주고  \n",
    "매개변수 갱신할 때는 1/루트h를 곱해 학습률을 조정함.  \n",
    "매개변수의 원소 중에서 많이 움직인(크게 갱신된) 원소는 학습률이 낮아진다는 뜻 -> 학습률 감소가 매개변수의 원소마다 적용됨을 뜻함"
   ]
  },
  {
   "cell_type": "markdown",
   "id": "03837fa8-f469-493f-b701-3022312479bc",
   "metadata": {},
   "source": [
    "AdaGrad는 과거의 기울기를 제곱하여 계속 더하다보니 진행할수록  \n",
    "갱신강도가 약해져 계속 학습하다보면 어느 순간 갱신량이 0이 됨  \n",
    "이것을 개선한 기법이 RMSProp임.  \n",
    "RMSProp은 과거의 모든 기울기를 균일하게 더하지 않고 먼 과거의 기울기는 서서히 잊고 새로운 기울기 정보를 크게 반영함.  \n",
    "* 이를 지수이동평균(Exponential Moving Average EMA)라 한다."
   ]
  },
  {
   "cell_type": "code",
   "execution_count": 4,
   "id": "1d768c77-3c91-48b0-b4d3-2658d20c549b",
   "metadata": {},
   "outputs": [],
   "source": [
    "class Adagrad:\n",
    "    def __init__(self, lr = 0.01):\n",
    "        self.lr = lr\n",
    "        self.h = None\n",
    "    def update(self, params, grads):\n",
    "        if self.h is None:\n",
    "            self.h = {}\n",
    "            for key, val in params.items():\n",
    "                self.h[key] = np.zeros_like(val)\n",
    "        for key in params.keys():\n",
    "            self.h[key] += grads[key] * grads[key]\n",
    "            params[key] -= self.lr*grads[key]/(np.sqrt(self.h[key])+1e-7)#여기서 1e-7이 0으로 나누는 사태를 막아줌"
   ]
  },
  {
   "cell_type": "markdown",
   "id": "52e12d53-1b2a-4fb4-9304-a5dad5368038",
   "metadata": {},
   "source": [
    "Adagrad는 u축 방향이 기울기가 커서 크게 움직이지만 큰 움직임에  \n",
    "비례하여 갱신 정도도 큰 폭으로 작아지도록 조정됨.  \n",
    "따라서 y축 방향으로 갱신 강도가 빠르게 약해지고 지그재그 움직임이 줄어듬"
   ]
  },
  {
   "cell_type": "markdown",
   "id": "20451ebb-e7cd-462c-b794-b56a7d707900",
   "metadata": {},
   "source": [
    "### Adam"
   ]
  },
  {
   "cell_type": "markdown",
   "id": "413a039a-839a-4cd0-9dab-b8dd484e883c",
   "metadata": {},
   "source": [
    "모멘텀과 Adagrad를 합친 것."
   ]
  },
  {
   "cell_type": "markdown",
   "id": "082743b0-5d41-4ca0-9135-36a02020325c",
   "metadata": {},
   "source": [
    "## 그래서 어느 갱신 방법을 이용할텨?"
   ]
  },
  {
   "cell_type": "markdown",
   "id": "23c92c5f-07ad-4808-aa2c-b9c5fbf458a2",
   "metadata": {},
   "source": [
    "-> 문제마다 다름  \n",
    "내가 배우는 책에서는 SGD와 Adam 주로 사용"
   ]
  },
  {
   "cell_type": "markdown",
   "id": "60982b35-a3d5-4c79-a1e1-23ce27421286",
   "metadata": {},
   "source": [
    "## 가중치의 초깃값"
   ]
  },
  {
   "cell_type": "markdown",
   "id": "8074f716-37e6-49f1-9a72-ce95a364a747",
   "metadata": {},
   "source": [
    "신경망 학습에서 특히 중요한 것이 가중치의 초깃값."
   ]
  },
  {
   "cell_type": "markdown",
   "id": "b515304e-f8ec-4c6e-aee8-e1b37cba4282",
   "metadata": {},
   "source": [
    "### if 초깃값 0"
   ]
  },
  {
   "cell_type": "markdown",
   "id": "530c229a-6d21-4291-8092-7496a5cfdce8",
   "metadata": {},
   "source": [
    "오버피팅을 억제하기 위해 가중치 감소라는 기법을 사용한다.  \n",
    "하지만 가중치의 초깃값을 0으로 설정하면 오차역전파법에서 모든 가중치의 값이 똑같이 갱신되기 때문에 안됨"
   ]
  },
  {
   "cell_type": "markdown",
   "id": "e0a26228-3a55-4f00-b25d-5bada3ce665a",
   "metadata": {},
   "source": [
    "### 은닉층의 활성화값 분포"
   ]
  },
  {
   "cell_type": "markdown",
   "id": "e20736d8-5741-49fe-aedc-cba005724564",
   "metadata": {},
   "source": [
    "은닉층의 활성화값(호라성화 함수의 출력 데이터)의 분포를 관찰하면 좋은 정보를 얻을 수 있음"
   ]
  },
  {
   "cell_type": "markdown",
   "id": "8ee99538-a251-45e8-9110-b9e316a007e5",
   "metadata": {},
   "source": [
    "밑은 CS231n 수업에 나온 내용으로 활서오하 함수로 시그모이드 함수를 사용하는 5층  \n",
    "신경망에 무작위로 생성한 입력 데이터를 흘리며 각 층의 활서오하값 분포를 히스토그램으로 그리는 코드  "
   ]
  },
  {
   "cell_type": "code",
   "execution_count": 5,
   "id": "6bd62985-91d7-4c06-8c5d-ec2e16da561b",
   "metadata": {},
   "outputs": [
    {
     "data": {
      "image/png": "[encoded data removed]",
      "text/plain": [
       "<Figure size 432x288 with 5 Axes>"
      ]
     },
     "metadata": {
      "needs_background": "light"
     },
     "output_type": "display_data"
    }
   ],
   "source": [
    "# coding: utf-8\n",
    "import numpy as np\n",
    "import matplotlib.pyplot as plt\n",
    "\n",
    "\n",
    "def sigmoid(x):\n",
    "    return 1 / (1 + np.exp(-x))\n",
    "\n",
    "\n",
    "def ReLU(x):\n",
    "    return np.maximum(0, x)\n",
    "\n",
    "\n",
    "def tanh(x):\n",
    "    return np.tanh(x)\n",
    "    \n",
    "input_data = np.random.randn(1000, 100)  # 1000개의 데이터\n",
    "node_num = 100  # 각 은닉층의 노드(뉴런) 수\n",
    "hidden_layer_size = 5  # 은닉층이 5개\n",
    "activations = {}  # 이곳에 활성화 결과를 저장\n",
    "\n",
    "x = input_data\n",
    "\n",
    "for i in range(hidden_layer_size):\n",
    "    if i != 0:\n",
    "        x = activations[i-1]\n",
    "\n",
    "    # 초깃값을 다양하게 바꿔가며 실험해보자！\n",
    "    w = np.random.randn(node_num, node_num) * 1\n",
    "    # w = np.random.randn(node_num, node_num) * 0.01\n",
    "    # w = np.random.randn(node_num, node_num) * np.sqrt(1.0 / node_num)\n",
    "    # w = np.random.randn(node_num, node_num) * np.sqrt(2.0 / node_num)\n",
    "\n",
    "\n",
    "    a = np.dot(x, w)\n",
    "\n",
    "\n",
    "    # 활성화 함수도 바꿔가며 실험해보자！\n",
    "    z = sigmoid(a)\n",
    "    # z = ReLU(a)\n",
    "    # z = tanh(a)\n",
    "\n",
    "    activations[i] = z\n",
    "\n",
    "# 히스토그램 그리기\n",
    "for i, a in activations.items():\n",
    "    plt.subplot(1, len(activations), i+1)\n",
    "    plt.title(str(i+1) + \"-layer\")\n",
    "    if i != 0: plt.yticks([], [])\n",
    "    # plt.xlim(0.1, 1)\n",
    "    # plt.ylim(0, 7000)\n",
    "    plt.hist(a.flatten(), 30, range=(0,1))\n",
    "plt.show()"
   ]
  },
  {
   "cell_type": "markdown",
   "id": "1f5007b6-7d25-4da4-ad7f-a0eb69b52f33",
   "metadata": {},
   "source": [
    "0과 1에 분포가 치우쳐 있는 것이 기울기 소실임"
   ]
  },
  {
   "cell_type": "code",
   "execution_count": 6,
   "id": "8447e80d-6e2b-40a7-9a10-2c21c86a7f2b",
   "metadata": {},
   "outputs": [],
   "source": [
    "# w = np.random.randn(node_num, node_num)*1\n",
    "w = np.random.randn(node_num, node_num)*0.01"
   ]
  },
  {
   "cell_type": "markdown",
   "id": "ea8ccc04-58f3-401b-b4d1-bcb936b3d4df",
   "metadata": {},
   "source": [
    "다수의 뉴런이 거의 같은 출력하고 있으니 뉴런을 여러 개 출력하고 있으니 뉴런을 여러 개 둔 의미가 없어진다는 뜻.  \n",
    "-> 100개의 뉴런이 거의 같은 값을 출력  \n",
    "-> 표현력 제한"
   ]
  },
  {
   "cell_type": "markdown",
   "id": "9560bc93-9ded-4388-8782-a460042b03aa",
   "metadata": {},
   "source": [
    "Xavier 초깃값"
   ]
  },
  {
   "cell_type": "markdown",
   "id": "995c201c-99fc-4ae7-8452-40dea70a88ca",
   "metadata": {},
   "source": [
    "이건 일반적인 딥레닝 프레임워크들이 표준적으로 이용중임. cs231에 나오는 Caffe에서도 사용"
   ]
  },
  {
   "cell_type": "markdown",
   "id": "376502d8-9dd8-4f9d-b996-5e7338c3ca81",
   "metadata": {},
   "source": [
    "초깃값의 표준편차가 $1\\over\\sqrt n$이 되도록 설정하는 것.(n은 앞 층의 노드 수)"
   ]
  },
  {
   "cell_type": "code",
   "execution_count": 3,
   "id": "ffdda687-d327-49e7-afa4-3c177b2dccd1",
   "metadata": {},
   "outputs": [],
   "source": [
    "import numpy as np\n",
    "import matplotlib.pyplot as plt\n",
    "node_num = 100\n",
    "w = np.random.randn(node_num, node_num)/np.sqrt(node_num)"
   ]
  },
  {
   "cell_type": "markdown",
   "id": "b7a32e21-caf2-4961-9e51-2925d0dc86ba",
   "metadata": {},
   "source": [
    "이걸 사용한 그림을 보면 층이 깊어지면서 형태가 다소 일그러지지만, 앞에서 본 방식보다는 넓게 분포됨이 보임"
   ]
  },
  {
   "cell_type": "markdown",
   "id": "e13af031-8cf3-4206-a184-fc397f848b0b",
   "metadata": {},
   "source": [
    "이 일그러짐은 sigmoid 함수 대신 tanh 함수를 이용하면 개선됨. -> cs231에 나옴"
   ]
  },
  {
   "cell_type": "markdown",
   "id": "6aaad43b-33da-44a7-aed5-ddd626cb858e",
   "metadata": {},
   "source": [
    "### ReLU를 사용할 때의 가중치 초깃값  \n",
    "앞선 Xavier 초깃값은 활성화 함수가 선형인 것을 전제로 이끈 결과임.  \n",
    "sigmoid 함수와 tanh함수는 좌우 대칭이라 중앙 부근이 선형인 함수로 볼 수 있음.  \n",
    "그래서 Xavier 초깃값이 적당함.  \n",
    "반면, ReLU를 이용할 때는 ReLU에 특화된 초깃값을 이용해야 함.  \n",
    "이것을 He 초깃값이라 함.  \n",
    "He 초깃값은 앞 계층의 노드가 n개일 때, 표준편차가 $\\sqrt{2\\over n}$인 정규분포를 사용함.  \n",
    "ReLU는 음의 영역이 0이라서 더 넓게 분포시키기 위해 2배의 계수가 필요하다고 해석 가능."
   ]
  },
  {
   "cell_type": "markdown",
   "id": "0390c93d-1b8b-4acc-a373-fddab88e3bbe",
   "metadata": {},
   "source": [
    "분포 결과를 보면 He는 모든 층에서 균일하게 분포되어 있는 것을 확인할 수 있음."
   ]
  },
  {
   "cell_type": "markdown",
   "id": "e0278346-0d8e-439c-80b9-b6aac9c8e9c2",
   "metadata": {},
   "source": [
    "결론: 활성화 함수로 ReLU를 사용할 때는 He 초깃값을, sigmoid나 tanh 등의 S자 모양 곡선일 때는 Xavier 초깃값을 쓰는 것이 적당"
   ]
  },
  {
   "cell_type": "markdown",
   "id": "606cfeb3-c0d0-4e90-a8bc-b3e63caeca77",
   "metadata": {},
   "source": [
    "### MNIST 데이터셋으로 본 가중치 초깃값 비교"
   ]
  },
  {
   "cell_type": "code",
   "execution_count": 4,
   "id": "14561868-2dc2-4ad6-a6a9-309b12a717d5",
   "metadata": {},
   "outputs": [
    {
     "name": "stdout",
     "output_type": "stream",
     "text": [
      "===========iteration:0===========\n",
      "std=0.01:2.3025167964840527\n",
      "Xavier:2.313382932527773\n",
      "He:2.369371674387402\n",
      "===========iteration:100===========\n",
      "std=0.01:2.302083182521934\n",
      "Xavier:2.256025269755567\n",
      "He:1.4150608575131094\n",
      "===========iteration:200===========\n",
      "std=0.01:2.3010931158499757\n",
      "Xavier:2.148347327795559\n",
      "He:0.7130707958955489\n",
      "===========iteration:300===========\n",
      "std=0.01:2.3017939557345852\n",
      "Xavier:1.899722729442104\n",
      "He:0.4783566922518412\n",
      "===========iteration:400===========\n",
      "std=0.01:2.301128949011052\n",
      "Xavier:1.398688247049985\n",
      "He:0.3611405821323278\n",
      "===========iteration:500===========\n",
      "std=0.01:2.305308338672387\n",
      "Xavier:1.0550968990962133\n",
      "He:0.4079217557353461\n",
      "===========iteration:600===========\n",
      "std=0.01:2.3013437265777785\n",
      "Xavier:0.7605991012796594\n",
      "He:0.41784369971487856\n",
      "===========iteration:700===========\n",
      "std=0.01:2.3029183751696305\n",
      "Xavier:0.6303137339574185\n",
      "He:0.3090949045176996\n",
      "===========iteration:800===========\n",
      "std=0.01:2.3052827824918563\n",
      "Xavier:0.4910971101588094\n",
      "He:0.3052253240316077\n",
      "===========iteration:900===========\n",
      "std=0.01:2.3031570431015966\n",
      "Xavier:0.5710723085881722\n",
      "He:0.317007155129604\n",
      "===========iteration:1000===========\n",
      "std=0.01:2.3033109727695096\n",
      "Xavier:0.38179624009507473\n",
      "He:0.1847591409762058\n",
      "===========iteration:1100===========\n",
      "std=0.01:2.301061836973581\n",
      "Xavier:0.49075143815628025\n",
      "He:0.36570734745389094\n",
      "===========iteration:1200===========\n",
      "std=0.01:2.3031483091779252\n",
      "Xavier:0.45385227016862095\n",
      "He:0.26226289319718543\n",
      "===========iteration:1300===========\n",
      "std=0.01:2.30659121000007\n",
      "Xavier:0.35179068677608905\n",
      "He:0.21690605929182158\n",
      "===========iteration:1400===========\n",
      "std=0.01:2.3015089690670685\n",
      "Xavier:0.537920829650436\n",
      "He:0.37596793528914224\n",
      "===========iteration:1500===========\n",
      "std=0.01:2.303239830554347\n",
      "Xavier:0.36916858808898334\n",
      "He:0.2165558492179095\n",
      "===========iteration:1600===========\n",
      "std=0.01:2.3019011993036713\n",
      "Xavier:0.35536194061202386\n",
      "He:0.27537515755592346\n",
      "===========iteration:1700===========\n",
      "std=0.01:2.298761602623685\n",
      "Xavier:0.3188198370560697\n",
      "He:0.18782990760950657\n",
      "===========iteration:1800===========\n",
      "std=0.01:2.296560393662876\n",
      "Xavier:0.37562832799217055\n",
      "He:0.23373476972714619\n",
      "===========iteration:1900===========\n",
      "std=0.01:2.301653202746513\n",
      "Xavier:0.2744828410260003\n",
      "He:0.1757740847413617\n"
     ]
    },
    {
     "data": {
      "image/png": "[encoded data removed]",
      "text/plain": [
       "<Figure size 432x288 with 1 Axes>"
      ]
     },
     "metadata": {
      "needs_background": "light"
     },
     "output_type": "display_data"
    }
   ],
   "source": [
    "# coding: utf-8\n",
    "import os\n",
    "import sys\n",
    "\n",
    "sys.path.append(os.pardir)  # 부모 디렉터리의 파일을 가져올 수 있도록 설정\n",
    "import numpy as np\n",
    "import matplotlib.pyplot as plt\n",
    "from dataset.mnist import load_mnist\n",
    "from common.util import smooth_curve\n",
    "from common.multi_layer_net import MultiLayerNet\n",
    "from common.optimizer import SGD\n",
    "\n",
    "\n",
    "# 0. MNIST 데이터 읽기==========\n",
    "(x_train, t_train), (x_test, t_test) = load_mnist(normalize=True)\n",
    "\n",
    "train_size = x_train.shape[0]\n",
    "batch_size = 128\n",
    "max_iterations = 2000\n",
    "\n",
    "\n",
    "# 1. 실험용 설정==========\n",
    "weight_init_types = {'std=0.01': 0.01, 'Xavier': 'sigmoid', 'He': 'relu'}\n",
    "optimizer = SGD(lr=0.01)\n",
    "\n",
    "networks = {}\n",
    "train_loss = {}\n",
    "for key, weight_type in weight_init_types.items():\n",
    "    networks[key] = MultiLayerNet(input_size=784, hidden_size_list=[100, 100, 100, 100],\n",
    "                                  output_size=10, weight_init_std=weight_type)\n",
    "    train_loss[key] = []\n",
    "\n",
    "\n",
    "# 2. 훈련 시작==========\n",
    "for i in range(max_iterations):\n",
    "    batch_mask = np.random.choice(train_size, batch_size)\n",
    "    x_batch = x_train[batch_mask]\n",
    "    t_batch = t_train[batch_mask]\n",
    "    \n",
    "    for key in weight_init_types.keys():\n",
    "        grads = networks[key].gradient(x_batch, t_batch)\n",
    "        optimizer.update(networks[key].params, grads)\n",
    "    \n",
    "        loss = networks[key].loss(x_batch, t_batch)\n",
    "        train_loss[key].append(loss)\n",
    "    \n",
    "    if i % 100 == 0:\n",
    "        print(\"===========\" + \"iteration:\" + str(i) + \"===========\")\n",
    "        for key in weight_init_types.keys():\n",
    "            loss = networks[key].loss(x_batch, t_batch)\n",
    "            print(key + \":\" + str(loss))\n",
    "\n",
    "\n",
    "# 3. 그래프 그리기==========\n",
    "markers = {'std=0.01': 'o', 'Xavier': 's', 'He': 'D'}\n",
    "x = np.arange(max_iterations)\n",
    "for key in weight_init_types.keys():\n",
    "    plt.plot(x, smooth_curve(train_loss[key]), marker=markers[key], markevery=100, label=key)\n",
    "plt.xlabel(\"iterations\")\n",
    "plt.ylabel(\"loss\")\n",
    "plt.ylim(0, 2.5)\n",
    "plt.legend()\n",
    "plt.show()\n"
   ]
  },
  {
   "cell_type": "markdown",
   "id": "9e24ece0-1954-48eb-8581-e9fc71899b02",
   "metadata": {},
   "source": [
    "그림에서 보듯 std(표준편차) = 0.01일 때는 학습이 전혀 x임.  \n",
    "순전파 때 너무 작은 값이 흘렀기 때문. -> 기울기 소실  \n",
    "He의 경우 아주아주 순조롭게 학습이 진행됨.  \n",
    "결론: 초깃값은 아중 중요한 포인트임. 간과하기 쉽지만 시작이 중요하니 잘 따져보고 챙기자."
   ]
  },
  {
   "cell_type": "markdown",
   "id": "b520447c-6eb9-4979-93fc-57d48b1d9a79",
   "metadata": {},
   "source": [
    "### 배치 정규화"
   ]
  },
  {
   "cell_type": "markdown",
   "id": "3e477b1b-d226-406f-932a-5a63b389b3d3",
   "metadata": {},
   "source": [
    "배치 정규화 아이디어: 각 층이 활성화를 적당히 퍼뜨리도록 '강제'하는"
   ]
  },
  {
   "cell_type": "markdown",
   "id": "388ea599-024c-4cb7-8470-70bdbe5733e1",
   "metadata": {},
   "source": [
    "배치 정규화가 주목받는 이유  \n",
    "1. 학습을 빨리 진행할 수 있음.\n",
    "2. 초깃값에 크게 의존하지 않음.\n",
    "3. 오버피팅을 억제함(드롭아웃의 필요성 감소)"
   ]
  },
  {
   "cell_type": "markdown",
   "id": "26b055b9-335a-4d38-85c4-390d1b1476fd",
   "metadata": {},
   "source": [
    "$\\mu_b \\longleftarrow$ $1\\over m$$\\sum_{k=1}^m x_i$"
   ]
  },
  {
   "cell_type": "markdown",
   "id": "9e310f15-41fb-4256-836e-d327ed3ba43a",
   "metadata": {},
   "source": [
    "$\\sigma_B ^2$ $\\longleftarrow$ $(x_i-\\mu_B)^2$"
   ]
  },
  {
   "cell_type": "markdown",
   "id": "9842b16a-6b30-4788-8d18-9677c2eb2bcc",
   "metadata": {},
   "source": [
    "$\\hat{x_i}$ $\\longleftarrow$ $x_i-\\mu_B \\over sqrt(\\mu_B ^2 + \\epsilon)$"
   ]
  },
  {
   "cell_type": "markdown",
   "id": "a9841560-f929-43e7-a0d6-76d6556b26fa",
   "metadata": {},
   "source": [
    "여기에 미니배치 B = {$x_1, x_2, \\ldots, x_m$} 요거 m개의 입력 데이터의 집합에 대해 평균 $\\mu_B$와 분산 $\\sigma_B ^2$를 구함.  \n",
    "그리고 입력 데이터를 평균이 0, 분산이 1이 되게 정규화함.  \n",
    "마지막 엡실론으로 0으로 나누는 사태를 예방  \n",
    "배치 정규화 계층마다 이 정규화된 데이터에 고유한 확대와 이동 변환을 수행함. 수식으로는 $y_i$$\\longleftarrow$$\\gamma \\hat{x_i} + \\beta$"
   ]
  },
  {
   "cell_type": "code",
   "execution_count": 6,
   "id": "c1da224f-c340-4bed-977f-98a4aa28367e",
   "metadata": {},
   "outputs": [
    {
     "name": "stdout",
     "output_type": "stream",
     "text": [
      "============== 1/16 ==============\n",
      "epoch:0 | 0.1 - 0.1\n"
     ]
    },
    {
     "name": "stderr",
     "output_type": "stream",
     "text": [
      "C:\\Users\\phs51\\common\\functions.py:34: RuntimeWarning: invalid value encountered in subtract\n",
      "  x = x - np.max(x, axis=0)\n"
     ]
    },
    {
     "name": "stdout",
     "output_type": "stream",
     "text": [
      "epoch:1 | 0.097 - 0.119\n",
      "epoch:2 | 0.097 - 0.13\n",
      "epoch:3 | 0.097 - 0.142\n",
      "epoch:4 | 0.097 - 0.157\n",
      "epoch:5 | 0.097 - 0.164\n",
      "epoch:6 | 0.097 - 0.181\n",
      "epoch:7 | 0.097 - 0.212\n",
      "epoch:8 | 0.097 - 0.233\n",
      "epoch:9 | 0.097 - 0.251\n",
      "epoch:10 | 0.097 - 0.26\n",
      "epoch:11 | 0.097 - 0.273\n",
      "epoch:12 | 0.097 - 0.281\n",
      "epoch:13 | 0.097 - 0.305\n",
      "epoch:14 | 0.097 - 0.316\n",
      "epoch:15 | 0.097 - 0.325\n",
      "epoch:16 | 0.097 - 0.347\n",
      "epoch:17 | 0.097 - 0.364\n",
      "epoch:18 | 0.097 - 0.377\n",
      "epoch:19 | 0.097 - 0.38\n"
     ]
    },
    {
     "name": "stderr",
     "output_type": "stream",
     "text": [
      "No artists with labels found to put in legend.  Note that artists whose label start with an underscore are ignored when legend() is called with no argument.\n"
     ]
    },
    {
     "name": "stdout",
     "output_type": "stream",
     "text": [
      "============== 2/16 ==============\n",
      "epoch:0 | 0.191 - 0.079\n",
      "epoch:1 | 0.097 - 0.103\n",
      "epoch:2 | 0.097 - 0.142\n",
      "epoch:3 | 0.097 - 0.173\n",
      "epoch:4 | 0.097 - 0.198\n",
      "epoch:5 | 0.097 - 0.24\n",
      "epoch:6 | 0.097 - 0.262\n",
      "epoch:7 | 0.097 - 0.287\n",
      "epoch:8 | 0.097 - 0.308\n",
      "epoch:9 | 0.097 - 0.325\n",
      "epoch:10 | 0.097 - 0.345\n",
      "epoch:11 | 0.097 - 0.366\n",
      "epoch:12 | 0.097 - 0.38\n",
      "epoch:13 | 0.097 - 0.396\n",
      "epoch:14 | 0.097 - 0.413\n",
      "epoch:15 | 0.097 - 0.425\n",
      "epoch:16 | 0.097 - 0.445\n",
      "epoch:17 | 0.097 - 0.459\n",
      "epoch:18 | 0.097 - 0.479\n"
     ]
    },
    {
     "name": "stderr",
     "output_type": "stream",
     "text": [
      "No artists with labels found to put in legend.  Note that artists whose label start with an underscore are ignored when legend() is called with no argument.\n"
     ]
    },
    {
     "name": "stdout",
     "output_type": "stream",
     "text": [
      "epoch:19 | 0.097 - 0.495\n",
      "============== 3/16 ==============\n",
      "epoch:0 | 0.114 - 0.119\n",
      "epoch:1 | 0.263 - 0.116\n",
      "epoch:2 | 0.421 - 0.134\n",
      "epoch:3 | 0.518 - 0.185\n",
      "epoch:4 | 0.583 - 0.229\n",
      "epoch:5 | 0.647 - 0.27\n",
      "epoch:6 | 0.683 - 0.305\n",
      "epoch:7 | 0.718 - 0.35\n",
      "epoch:8 | 0.744 - 0.383\n",
      "epoch:9 | 0.779 - 0.411\n",
      "epoch:10 | 0.808 - 0.441\n",
      "epoch:11 | 0.838 - 0.468\n",
      "epoch:12 | 0.855 - 0.496\n",
      "epoch:13 | 0.865 - 0.51\n",
      "epoch:14 | 0.871 - 0.527\n",
      "epoch:15 | 0.887 - 0.558\n",
      "epoch:16 | 0.906 - 0.564\n",
      "epoch:17 | 0.904 - 0.587\n"
     ]
    },
    {
     "name": "stderr",
     "output_type": "stream",
     "text": [
      "No artists with labels found to put in legend.  Note that artists whose label start with an underscore are ignored when legend() is called with no argument.\n"
     ]
    },
    {
     "name": "stdout",
     "output_type": "stream",
     "text": [
      "epoch:18 | 0.925 - 0.6\n",
      "epoch:19 | 0.939 - 0.62\n",
      "============== 4/16 ==============\n",
      "epoch:0 | 0.094 - 0.096\n",
      "epoch:1 | 0.245 - 0.117\n",
      "epoch:2 | 0.382 - 0.171\n",
      "epoch:3 | 0.476 - 0.255\n",
      "epoch:4 | 0.532 - 0.32\n",
      "epoch:5 | 0.58 - 0.407\n",
      "epoch:6 | 0.636 - 0.472\n",
      "epoch:7 | 0.669 - 0.534\n",
      "epoch:8 | 0.693 - 0.57\n",
      "epoch:9 | 0.721 - 0.605\n",
      "epoch:10 | 0.744 - 0.625\n",
      "epoch:11 | 0.731 - 0.65\n",
      "epoch:12 | 0.762 - 0.678\n",
      "epoch:13 | 0.79 - 0.703\n",
      "epoch:14 | 0.79 - 0.729\n",
      "epoch:15 | 0.807 - 0.745\n",
      "epoch:16 | 0.814 - 0.754\n",
      "epoch:17 | 0.833 - 0.765\n"
     ]
    },
    {
     "name": "stderr",
     "output_type": "stream",
     "text": [
      "No artists with labels found to put in legend.  Note that artists whose label start with an underscore are ignored when legend() is called with no argument.\n"
     ]
    },
    {
     "name": "stdout",
     "output_type": "stream",
     "text": [
      "epoch:18 | 0.843 - 0.78\n",
      "epoch:19 | 0.848 - 0.786\n",
      "============== 5/16 ==============\n",
      "epoch:0 | 0.116 - 0.119\n",
      "epoch:1 | 0.126 - 0.169\n",
      "epoch:2 | 0.127 - 0.344\n",
      "epoch:3 | 0.14 - 0.472\n",
      "epoch:4 | 0.15 - 0.545\n",
      "epoch:5 | 0.154 - 0.611\n",
      "epoch:6 | 0.155 - 0.657\n",
      "epoch:7 | 0.164 - 0.693\n",
      "epoch:8 | 0.15 - 0.723\n",
      "epoch:9 | 0.141 - 0.747\n",
      "epoch:10 | 0.131 - 0.773\n",
      "epoch:11 | 0.15 - 0.795\n",
      "epoch:12 | 0.17 - 0.825\n",
      "epoch:13 | 0.174 - 0.851\n",
      "epoch:14 | 0.186 - 0.857\n",
      "epoch:15 | 0.181 - 0.865\n",
      "epoch:16 | 0.182 - 0.879\n",
      "epoch:17 | 0.188 - 0.887\n",
      "epoch:18 | 0.195 - 0.899\n"
     ]
    },
    {
     "name": "stderr",
     "output_type": "stream",
     "text": [
      "No artists with labels found to put in legend.  Note that artists whose label start with an underscore are ignored when legend() is called with no argument.\n"
     ]
    },
    {
     "name": "stdout",
     "output_type": "stream",
     "text": [
      "epoch:19 | 0.199 - 0.906\n",
      "============== 6/16 ==============\n",
      "epoch:0 | 0.108 - 0.113\n",
      "epoch:1 | 0.093 - 0.167\n",
      "epoch:2 | 0.117 - 0.468\n",
      "epoch:3 | 0.116 - 0.635\n",
      "epoch:4 | 0.116 - 0.708\n",
      "epoch:5 | 0.115 - 0.751\n",
      "epoch:6 | 0.116 - 0.793\n",
      "epoch:7 | 0.11 - 0.815\n",
      "epoch:8 | 0.116 - 0.838\n",
      "epoch:9 | 0.116 - 0.853\n",
      "epoch:10 | 0.116 - 0.873\n",
      "epoch:11 | 0.116 - 0.888\n",
      "epoch:12 | 0.116 - 0.903\n",
      "epoch:13 | 0.118 - 0.909\n",
      "epoch:14 | 0.118 - 0.918\n",
      "epoch:15 | 0.118 - 0.923\n",
      "epoch:16 | 0.116 - 0.936\n",
      "epoch:17 | 0.118 - 0.943\n"
     ]
    },
    {
     "name": "stderr",
     "output_type": "stream",
     "text": [
      "No artists with labels found to put in legend.  Note that artists whose label start with an underscore are ignored when legend() is called with no argument.\n"
     ]
    },
    {
     "name": "stdout",
     "output_type": "stream",
     "text": [
      "epoch:18 | 0.081 - 0.947\n",
      "epoch:19 | 0.117 - 0.951\n",
      "============== 7/16 ==============\n",
      "epoch:0 | 0.117 - 0.135\n",
      "epoch:1 | 0.116 - 0.319\n",
      "epoch:2 | 0.116 - 0.653\n",
      "epoch:3 | 0.116 - 0.759\n",
      "epoch:4 | 0.116 - 0.79\n",
      "epoch:5 | 0.116 - 0.827\n",
      "epoch:6 | 0.116 - 0.851\n",
      "epoch:7 | 0.116 - 0.876\n",
      "epoch:8 | 0.116 - 0.904\n",
      "epoch:9 | 0.116 - 0.911\n",
      "epoch:10 | 0.116 - 0.928\n",
      "epoch:11 | 0.116 - 0.943\n",
      "epoch:12 | 0.116 - 0.957\n",
      "epoch:13 | 0.116 - 0.969\n",
      "epoch:14 | 0.116 - 0.978\n",
      "epoch:15 | 0.117 - 0.98\n",
      "epoch:16 | 0.117 - 0.982\n",
      "epoch:17 | 0.117 - 0.982\n",
      "epoch:18 | 0.117 - 0.986\n"
     ]
    },
    {
     "name": "stderr",
     "output_type": "stream",
     "text": [
      "No artists with labels found to put in legend.  Note that artists whose label start with an underscore are ignored when legend() is called with no argument.\n"
     ]
    },
    {
     "name": "stdout",
     "output_type": "stream",
     "text": [
      "epoch:19 | 0.117 - 0.989\n",
      "============== 8/16 ==============\n",
      "epoch:0 | 0.105 - 0.102\n",
      "epoch:1 | 0.099 - 0.253\n",
      "epoch:2 | 0.117 - 0.662\n",
      "epoch:3 | 0.116 - 0.782\n",
      "epoch:4 | 0.116 - 0.836\n",
      "epoch:5 | 0.116 - 0.878\n",
      "epoch:6 | 0.117 - 0.907\n",
      "epoch:7 | 0.117 - 0.94\n",
      "epoch:8 | 0.117 - 0.961\n",
      "epoch:9 | 0.117 - 0.97\n",
      "epoch:10 | 0.117 - 0.978\n",
      "epoch:11 | 0.117 - 0.983\n",
      "epoch:12 | 0.117 - 0.991\n",
      "epoch:13 | 0.117 - 0.994\n",
      "epoch:14 | 0.117 - 0.993\n",
      "epoch:15 | 0.117 - 0.997\n",
      "epoch:16 | 0.117 - 0.998\n",
      "epoch:17 | 0.117 - 0.998\n",
      "epoch:18 | 0.117 - 0.998\n"
     ]
    },
    {
     "name": "stderr",
     "output_type": "stream",
     "text": [
      "No artists with labels found to put in legend.  Note that artists whose label start with an underscore are ignored when legend() is called with no argument.\n"
     ]
    },
    {
     "name": "stdout",
     "output_type": "stream",
     "text": [
      "epoch:19 | 0.117 - 0.998\n",
      "============== 9/16 ==============\n",
      "epoch:0 | 0.092 - 0.137\n",
      "epoch:1 | 0.117 - 0.444\n",
      "epoch:2 | 0.116 - 0.793\n",
      "epoch:3 | 0.116 - 0.848\n",
      "epoch:4 | 0.116 - 0.928\n",
      "epoch:5 | 0.116 - 0.959\n",
      "epoch:6 | 0.117 - 0.976\n",
      "epoch:7 | 0.116 - 0.983\n",
      "epoch:8 | 0.116 - 0.982\n",
      "epoch:9 | 0.117 - 0.992\n",
      "epoch:10 | 0.117 - 0.995\n",
      "epoch:11 | 0.117 - 0.996\n",
      "epoch:12 | 0.117 - 0.999\n",
      "epoch:13 | 0.117 - 0.999\n",
      "epoch:14 | 0.117 - 1.0\n",
      "epoch:15 | 0.117 - 1.0\n",
      "epoch:16 | 0.117 - 1.0\n",
      "epoch:17 | 0.117 - 1.0\n",
      "epoch:18 | 0.117 - 1.0\n"
     ]
    },
    {
     "name": "stderr",
     "output_type": "stream",
     "text": [
      "No artists with labels found to put in legend.  Note that artists whose label start with an underscore are ignored when legend() is called with no argument.\n"
     ]
    },
    {
     "name": "stdout",
     "output_type": "stream",
     "text": [
      "epoch:19 | 0.117 - 1.0\n",
      "============== 10/16 ==============\n",
      "epoch:0 | 0.117 - 0.129\n",
      "epoch:1 | 0.116 - 0.738\n",
      "epoch:2 | 0.117 - 0.832\n",
      "epoch:3 | 0.117 - 0.877\n",
      "epoch:4 | 0.117 - 0.911\n",
      "epoch:5 | 0.117 - 0.923\n",
      "epoch:6 | 0.117 - 0.974\n",
      "epoch:7 | 0.117 - 0.949\n",
      "epoch:8 | 0.117 - 0.985\n",
      "epoch:9 | 0.116 - 0.993\n",
      "epoch:10 | 0.117 - 0.994\n",
      "epoch:11 | 0.117 - 0.995\n",
      "epoch:12 | 0.117 - 0.998\n",
      "epoch:13 | 0.117 - 1.0\n",
      "epoch:14 | 0.117 - 0.873\n",
      "epoch:15 | 0.117 - 0.994\n",
      "epoch:16 | 0.117 - 0.999\n",
      "epoch:17 | 0.117 - 0.999\n",
      "epoch:18 | 0.117 - 1.0\n"
     ]
    },
    {
     "name": "stderr",
     "output_type": "stream",
     "text": [
      "No artists with labels found to put in legend.  Note that artists whose label start with an underscore are ignored when legend() is called with no argument.\n"
     ]
    },
    {
     "name": "stdout",
     "output_type": "stream",
     "text": [
      "epoch:19 | 0.117 - 1.0\n",
      "============== 11/16 ==============\n",
      "epoch:0 | 0.117 - 0.209\n",
      "epoch:1 | 0.117 - 0.658\n",
      "epoch:2 | 0.117 - 0.651\n",
      "epoch:3 | 0.117 - 0.79\n",
      "epoch:4 | 0.117 - 0.827\n",
      "epoch:5 | 0.117 - 0.871\n",
      "epoch:6 | 0.117 - 0.92\n",
      "epoch:7 | 0.117 - 0.92\n",
      "epoch:8 | 0.116 - 0.969\n",
      "epoch:9 | 0.116 - 0.982\n",
      "epoch:10 | 0.117 - 0.984\n",
      "epoch:11 | 0.117 - 0.944\n",
      "epoch:12 | 0.117 - 0.982\n",
      "epoch:13 | 0.116 - 0.987\n",
      "epoch:14 | 0.117 - 0.991\n",
      "epoch:15 | 0.117 - 0.993\n",
      "epoch:16 | 0.117 - 0.915\n",
      "epoch:17 | 0.117 - 0.977\n",
      "epoch:18 | 0.117 - 0.921\n"
     ]
    },
    {
     "name": "stderr",
     "output_type": "stream",
     "text": [
      "No artists with labels found to put in legend.  Note that artists whose label start with an underscore are ignored when legend() is called with no argument.\n"
     ]
    },
    {
     "name": "stdout",
     "output_type": "stream",
     "text": [
      "epoch:19 | 0.116 - 0.996\n",
      "============== 12/16 ==============\n",
      "epoch:0 | 0.097 - 0.102\n",
      "epoch:1 | 0.099 - 0.442\n",
      "epoch:2 | 0.099 - 0.633\n",
      "epoch:3 | 0.116 - 0.664\n",
      "epoch:4 | 0.117 - 0.695\n",
      "epoch:5 | 0.117 - 0.698\n",
      "epoch:6 | 0.117 - 0.737\n",
      "epoch:7 | 0.117 - 0.766\n",
      "epoch:8 | 0.117 - 0.769\n",
      "epoch:9 | 0.117 - 0.779\n",
      "epoch:10 | 0.117 - 0.875\n",
      "epoch:11 | 0.117 - 0.811\n",
      "epoch:12 | 0.117 - 0.839\n",
      "epoch:13 | 0.117 - 0.867\n",
      "epoch:14 | 0.116 - 0.89\n",
      "epoch:15 | 0.116 - 0.891\n",
      "epoch:16 | 0.116 - 0.894\n",
      "epoch:17 | 0.116 - 0.868\n",
      "epoch:18 | 0.116 - 0.897\n"
     ]
    },
    {
     "name": "stderr",
     "output_type": "stream",
     "text": [
      "No artists with labels found to put in legend.  Note that artists whose label start with an underscore are ignored when legend() is called with no argument.\n"
     ]
    },
    {
     "name": "stdout",
     "output_type": "stream",
     "text": [
      "epoch:19 | 0.116 - 0.904\n",
      "============== 13/16 ==============\n",
      "epoch:0 | 0.093 - 0.152\n",
      "epoch:1 | 0.116 - 0.441\n",
      "epoch:2 | 0.116 - 0.551\n",
      "epoch:3 | 0.117 - 0.459\n",
      "epoch:4 | 0.117 - 0.582\n",
      "epoch:5 | 0.117 - 0.596\n",
      "epoch:6 | 0.117 - 0.584\n",
      "epoch:7 | 0.117 - 0.607\n",
      "epoch:8 | 0.117 - 0.607\n",
      "epoch:9 | 0.117 - 0.603\n",
      "epoch:10 | 0.117 - 0.61\n",
      "epoch:11 | 0.117 - 0.611\n",
      "epoch:12 | 0.116 - 0.614\n",
      "epoch:13 | 0.117 - 0.614\n",
      "epoch:14 | 0.117 - 0.614\n",
      "epoch:15 | 0.117 - 0.615\n",
      "epoch:16 | 0.117 - 0.614\n",
      "epoch:17 | 0.117 - 0.615\n",
      "epoch:18 | 0.117 - 0.618\n"
     ]
    },
    {
     "name": "stderr",
     "output_type": "stream",
     "text": [
      "No artists with labels found to put in legend.  Note that artists whose label start with an underscore are ignored when legend() is called with no argument.\n"
     ]
    },
    {
     "name": "stdout",
     "output_type": "stream",
     "text": [
      "epoch:19 | 0.117 - 0.693\n",
      "============== 14/16 ==============\n",
      "epoch:0 | 0.116 - 0.168\n",
      "epoch:1 | 0.117 - 0.339\n",
      "epoch:2 | 0.117 - 0.386\n",
      "epoch:3 | 0.117 - 0.39\n",
      "epoch:4 | 0.117 - 0.495\n",
      "epoch:5 | 0.117 - 0.489\n",
      "epoch:6 | 0.117 - 0.503\n",
      "epoch:7 | 0.117 - 0.473\n",
      "epoch:8 | 0.117 - 0.501\n",
      "epoch:9 | 0.117 - 0.468\n",
      "epoch:10 | 0.117 - 0.505\n",
      "epoch:11 | 0.117 - 0.504\n",
      "epoch:12 | 0.117 - 0.508\n",
      "epoch:13 | 0.117 - 0.52\n",
      "epoch:14 | 0.117 - 0.511\n",
      "epoch:15 | 0.117 - 0.505\n",
      "epoch:16 | 0.117 - 0.497\n",
      "epoch:17 | 0.117 - 0.514\n",
      "epoch:18 | 0.117 - 0.516\n"
     ]
    },
    {
     "name": "stderr",
     "output_type": "stream",
     "text": [
      "No artists with labels found to put in legend.  Note that artists whose label start with an underscore are ignored when legend() is called with no argument.\n"
     ]
    },
    {
     "name": "stdout",
     "output_type": "stream",
     "text": [
      "epoch:19 | 0.117 - 0.514\n",
      "============== 15/16 ==============\n",
      "epoch:0 | 0.087 - 0.174\n",
      "epoch:1 | 0.097 - 0.295\n",
      "epoch:2 | 0.116 - 0.381\n",
      "epoch:3 | 0.116 - 0.378\n",
      "epoch:4 | 0.116 - 0.41\n",
      "epoch:5 | 0.116 - 0.41\n",
      "epoch:6 | 0.116 - 0.411\n",
      "epoch:7 | 0.116 - 0.419\n",
      "epoch:8 | 0.116 - 0.414\n",
      "epoch:9 | 0.116 - 0.418\n",
      "epoch:10 | 0.116 - 0.498\n",
      "epoch:11 | 0.116 - 0.501\n",
      "epoch:12 | 0.116 - 0.515\n",
      "epoch:13 | 0.116 - 0.489\n",
      "epoch:14 | 0.117 - 0.503\n",
      "epoch:15 | 0.116 - 0.514\n",
      "epoch:16 | 0.116 - 0.506\n",
      "epoch:17 | 0.116 - 0.501\n",
      "epoch:18 | 0.116 - 0.517\n"
     ]
    },
    {
     "name": "stderr",
     "output_type": "stream",
     "text": [
      "No artists with labels found to put in legend.  Note that artists whose label start with an underscore are ignored when legend() is called with no argument.\n"
     ]
    },
    {
     "name": "stdout",
     "output_type": "stream",
     "text": [
      "epoch:19 | 0.117 - 0.524\n",
      "============== 16/16 ==============\n",
      "epoch:0 | 0.116 - 0.131\n",
      "epoch:1 | 0.117 - 0.203\n",
      "epoch:2 | 0.117 - 0.309\n",
      "epoch:3 | 0.117 - 0.396\n",
      "epoch:4 | 0.117 - 0.417\n",
      "epoch:5 | 0.117 - 0.419\n",
      "epoch:6 | 0.117 - 0.414\n",
      "epoch:7 | 0.117 - 0.426\n",
      "epoch:8 | 0.117 - 0.429\n",
      "epoch:9 | 0.117 - 0.493\n",
      "epoch:10 | 0.117 - 0.523\n",
      "epoch:11 | 0.117 - 0.509\n",
      "epoch:12 | 0.117 - 0.521\n",
      "epoch:13 | 0.117 - 0.529\n",
      "epoch:14 | 0.117 - 0.516\n",
      "epoch:15 | 0.117 - 0.514\n",
      "epoch:16 | 0.117 - 0.496\n",
      "epoch:17 | 0.117 - 0.504\n",
      "epoch:18 | 0.117 - 0.511\n",
      "epoch:19 | 0.117 - 0.525\n"
     ]
    },
    {
     "data": {
      "image/png": "[encoded data removed]",
      "text/plain": [
       "<Figure size 432x288 with 16 Axes>"
      ]
     },
     "metadata": {
      "needs_background": "light"
     },
     "output_type": "display_data"
    }
   ],
   "source": [
    "# coding: utf-8\n",
    "import sys, os\n",
    "sys.path.append(os.pardir)  # 부모 디렉터리의 파일을 가져올 수 있도록 설정\n",
    "import numpy as np\n",
    "import matplotlib.pyplot as plt\n",
    "from dataset.mnist import load_mnist\n",
    "from common.multi_layer_net_extend import MultiLayerNetExtend\n",
    "from common.optimizer import SGD, Adam\n",
    "\n",
    "(x_train, t_train), (x_test, t_test) = load_mnist(normalize=True)\n",
    "\n",
    "# 학습 데이터를 줄임\n",
    "x_train = x_train[:1000]\n",
    "t_train = t_train[:1000]\n",
    "\n",
    "max_epochs = 20\n",
    "train_size = x_train.shape[0]\n",
    "batch_size = 100\n",
    "learning_rate = 0.01\n",
    "\n",
    "\n",
    "def __train(weight_init_std):\n",
    "    bn_network = MultiLayerNetExtend(input_size=784, hidden_size_list=[100, 100, 100, 100, 100], output_size=10, \n",
    "                                    weight_init_std=weight_init_std, use_batchnorm=True)\n",
    "    network = MultiLayerNetExtend(input_size=784, hidden_size_list=[100, 100, 100, 100, 100], output_size=10,\n",
    "                                weight_init_std=weight_init_std)\n",
    "    optimizer = SGD(lr=learning_rate)\n",
    "    \n",
    "    train_acc_list = []\n",
    "    bn_train_acc_list = []\n",
    "    \n",
    "    iter_per_epoch = max(train_size / batch_size, 1)\n",
    "    epoch_cnt = 0\n",
    "    \n",
    "    for i in range(1000000000):\n",
    "        batch_mask = np.random.choice(train_size, batch_size)\n",
    "        x_batch = x_train[batch_mask]\n",
    "        t_batch = t_train[batch_mask]\n",
    "    \n",
    "        for _network in (bn_network, network):\n",
    "            grads = _network.gradient(x_batch, t_batch)\n",
    "            optimizer.update(_network.params, grads)\n",
    "    \n",
    "        if i % iter_per_epoch == 0:\n",
    "            train_acc = network.accuracy(x_train, t_train)\n",
    "            bn_train_acc = bn_network.accuracy(x_train, t_train)\n",
    "            train_acc_list.append(train_acc)\n",
    "            bn_train_acc_list.append(bn_train_acc)\n",
    "    \n",
    "            print(\"epoch:\" + str(epoch_cnt) + \" | \" + str(train_acc) + \" - \" + str(bn_train_acc))\n",
    "    \n",
    "            epoch_cnt += 1\n",
    "            if epoch_cnt >= max_epochs:\n",
    "                break\n",
    "                \n",
    "    return train_acc_list, bn_train_acc_list\n",
    "\n",
    "\n",
    "# 그래프 그리기==========\n",
    "weight_scale_list = np.logspace(0, -4, num=16)\n",
    "x = np.arange(max_epochs)\n",
    "\n",
    "for i, w in enumerate(weight_scale_list):\n",
    "    print( \"============== \" + str(i+1) + \"/16\" + \" ==============\")\n",
    "    train_acc_list, bn_train_acc_list = __train(w)\n",
    "    \n",
    "    plt.subplot(4,4,i+1)\n",
    "    plt.title(\"W:\" + str(w))\n",
    "    if i == 15:\n",
    "        plt.plot(x, bn_train_acc_list, label='Batch Normalization', markevery=2)\n",
    "        plt.plot(x, train_acc_list, linestyle = \"--\", label='Normal(without BatchNorm)', markevery=2)\n",
    "    else:\n",
    "        plt.plot(x, bn_train_acc_list, markevery=2)\n",
    "        plt.plot(x, train_acc_list, linestyle=\"--\", markevery=2)\n",
    "\n",
    "    plt.ylim(0, 1.0)\n",
    "    if i % 4:\n",
    "        plt.yticks([])\n",
    "    else:\n",
    "        plt.ylabel(\"accuracy\")\n",
    "    if i < 12:\n",
    "        plt.xticks([])\n",
    "    else:\n",
    "        plt.xlabel(\"epochs\")\n",
    "    plt.legend(loc='lower right')\n",
    "    \n",
    "plt.show()\n"
   ]
  },
  {
   "cell_type": "markdown",
   "id": "43970b4f-5962-402c-8cde-f3ef0548bf3c",
   "metadata": {},
   "source": [
    "앞에서 언급한 3가지를 다 보여줌."
   ]
  }
 ],
 "metadata": {
  "kernelspec": {
   "display_name": "Python 3 (ipykernel)",
   "language": "python",
   "name": "python3"
  },
  "language_info": {
   "codemirror_mode": {
    "name": "ipython",
    "version": 3
   },
   "file_extension": ".py",
   "mimetype": "text/x-python",
   "name": "python",
   "nbconvert_exporter": "python",
   "pygments_lexer": "ipython3",
   "version": "3.9.12"
  }
 },
 "nbformat": 4,
 "nbformat_minor": 5
}
