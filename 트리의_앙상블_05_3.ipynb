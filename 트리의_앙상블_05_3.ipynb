{
  "nbformat": 4,
  "nbformat_minor": 0,
  "metadata": {
    "colab": {
      "provenance": []
    },
    "kernelspec": {
      "name": "python3",
      "display_name": "Python 3"
    },
    "language_info": {
      "name": "python"
    }
  },
  "cells": [
    {
      "cell_type": "markdown",
      "source": [
        "# 랜덤 포레스트"
      ],
      "metadata": {
        "id": "RpaZFq_qj0iW"
      }
    },
    {
      "cell_type": "markdown",
      "source": [
        "정형 데이터: 구조화 되어 있고 CSV나 데이터베이스에 어울리는 데이터  \n",
        "비정형 데이터: 텍스트 데이터, 디지털 카메라 사진, 디지털 음악 등 데이터베이스에 표현하기 어려운 데이터"
      ],
      "metadata": {
        "id": "YKdjdR6Ajc1G"
      }
    },
    {
      "cell_type": "markdown",
      "source": [
        "정형 데이터를 다룰 때 가장 뛰어난 성과를 내는 알고리즘: 앙상블 학습"
      ],
      "metadata": {
        "id": "-RqKdPqzj0D6"
      }
    },
    {
      "cell_type": "markdown",
      "source": [
        "랜덤 포레스트: 앙상블 학습의 대표 주장 중 하나로 결정 트리를 랜덤하게 만들어  \n",
        "결정 트리의 숲을 만들고 각 결정 트리의 예측을 사용해 최종 예측을 만듦."
      ],
      "metadata": {
        "id": "dUfDzTp1kH5R"
      }
    },
    {
      "cell_type": "markdown",
      "source": [
        "랜덤 포레스트에서는 각 트리를 훈련하기 위해 데이터를 랜덤하게 만드는데 한 샘플이 중복될 수 있게 추출하고  \n",
        "이렇게 만들어진 샘플들을 부트스트랩 샘플이라고 부름.  \n",
        "기본적으로 부트스트랩 샘플은 훈련 세트의 크기와 같게 만든다."
      ],
      "metadata": {
        "id": "r6xxdTKIkpkX"
      }
    },
    {
      "cell_type": "markdown",
      "source": [
        " RandomForestClassifier는 기본적으로 전체 특성 개수의 제곱근만큼의 특성을 선택함.  \n",
        " 즉 4개의 특성이 있다면 노드마다 2개를 랜덤하게 선택하는식"
      ],
      "metadata": {
        "id": "8C5ridHKkpeN"
      }
    },
    {
      "cell_type": "code",
      "execution_count": 1,
      "metadata": {
        "id": "KeLiYBkgi-wX"
      },
      "outputs": [],
      "source": [
        "import numpy as np\n",
        "import pandas as pd\n",
        "from sklearn.model_selection import train_test_split\n",
        "wine = pd.read_csv('https://bit.ly/wine_csv_data')\n",
        "data = wine[['alcohol', 'sugar', 'pH']].to_numpy()\n",
        "target = wine['class'].to_numpy()\n",
        "train_input, test_input, train_target, test_target = train_test_split(data, target, test_size=0.2, random_state=42)"
      ]
    },
    {
      "cell_type": "code",
      "source": [
        "from sklearn.model_selection import cross_validate\n",
        "from sklearn.ensemble import RandomForestClassifier\n",
        "rf = RandomForestClassifier(n_jobs=-1, random_state=42)"
      ],
      "metadata": {
        "id": "BNkgDYoMmQfM"
      },
      "execution_count": 2,
      "outputs": []
    },
    {
      "cell_type": "code",
      "source": [
        "#return_train_score는 False가 기본값인데 True로 해주면 trainscore도 저장\n",
        "scores = cross_validate(rf, train_input, train_target, return_train_score=True, n_jobs=-1)\n",
        "print(np.mean(scores['train_score']), np.mean(scores['test_score']))"
      ],
      "metadata": {
        "colab": {
          "base_uri": "https://localhost:8080/"
        },
        "id": "N1010tVemt4B",
        "outputId": "9d2a6792-ff13-45ea-9f94-043fdb507d5b"
      },
      "execution_count": 4,
      "outputs": [
        {
          "output_type": "stream",
          "name": "stdout",
          "text": [
            "0.9973541965122431 0.8905151032797809\n"
          ]
        }
      ]
    },
    {
      "cell_type": "markdown",
      "source": [
        "랜덤 포레스트는 결정 트리의 앙상블이기 대문에 DecisionTreeClassifier가 제공하는 중요 매개변수를 모두 제공함  \n",
        "또한 결정 트리의 큰 장점 중 하나는 특성의 중요도를 계산하는 것"
      ],
      "metadata": {
        "id": "3QwsMVkSnOTN"
      }
    },
    {
      "cell_type": "code",
      "source": [
        "rf.fit(train_input, train_target)\n",
        "print(rf.feature_importances_)"
      ],
      "metadata": {
        "colab": {
          "base_uri": "https://localhost:8080/"
        },
        "id": "s-xfZ0qom9dm",
        "outputId": "b4c3fea0-4e53-4911-deff-eb5690e13736"
      },
      "execution_count": 5,
      "outputs": [
        {
          "output_type": "stream",
          "name": "stdout",
          "text": [
            "[0.23167441 0.50039841 0.26792718]\n"
          ]
        }
      ]
    },
    {
      "cell_type": "markdown",
      "source": [
        "## 중요\n",
        "RandomForestClassifier에는 부트스트랩을 샘플에 포함되지 않은 OOB(out of bag) 샘플을  \n",
        "가지고 훈련 결정 트리를 평가하는 마치 검증 세트 같은 기능이 있음"
      ],
      "metadata": {
        "id": "2f21Imvwnj5J"
      }
    },
    {
      "cell_type": "markdown",
      "source": [
        "# 엑스트라 트리"
      ],
      "metadata": {
        "id": "-pHqQlqzn1kF"
      }
    },
    {
      "cell_type": "markdown",
      "source": [
        "엑스트라 트리는 랜덤 포레스트와 비슷한데 차이점은 부트스트랩을 사용하지 않음  \n",
        "노드를 분할할 때 최적의 분할을 찾지 않고 랜덤으로 분할함. splitter=random"
      ],
      "metadata": {
        "id": "kE6njXd9n_gF"
      }
    },
    {
      "cell_type": "code",
      "source": [
        "from sklearn.ensemble import ExtraTreesClassifier\n",
        "et = ExtraTreesClassifier(n_jobs=-1, random_state=42)\n",
        "scores = cross_validate(et, train_input, train_target, return_train_score = True, n_jobs=-1)\n",
        "print(np.mean(scores['train_score']), np.mean(scores['test_score']))"
      ],
      "metadata": {
        "colab": {
          "base_uri": "https://localhost:8080/"
        },
        "id": "pdVm4UO2nEUq",
        "outputId": "405cbf49-5195-44b2-ede3-43810366f199"
      },
      "execution_count": 6,
      "outputs": [
        {
          "output_type": "stream",
          "name": "stdout",
          "text": [
            "0.9974503966084433 0.8887848893166506\n"
          ]
        }
      ]
    }
  ]
}